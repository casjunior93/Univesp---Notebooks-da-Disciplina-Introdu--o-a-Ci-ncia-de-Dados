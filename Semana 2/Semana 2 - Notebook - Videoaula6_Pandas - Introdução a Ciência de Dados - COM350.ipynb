{
 "cells": [
  {
   "cell_type": "markdown",
   "metadata": {
    "id": "GL6rWJP5FP3Z"
   },
   "source": [
    "#Demonstração Pandas\n",
    "###Disciplina - Introdução a Ciência de Dados - Univesp\n",
    "###Videoaula 6\n",
    "###Prof. Dr. José Eduardo Santarem Segundo"
   ]
  },
  {
   "cell_type": "markdown",
   "metadata": {
    "id": "w1SLnKE4Ff8b"
   },
   "source": [
    "#Importar Bibliotecas"
   ]
  },
  {
   "cell_type": "code",
   "execution_count": 1,
   "metadata": {
    "executionInfo": {
     "elapsed": 6,
     "status": "ok",
     "timestamp": 1632773119446,
     "user": {
      "displayName": "Jose Eduardo Santarem Segundo",
      "photoUrl": "https://lh3.googleusercontent.com/a-/AOh14GjLWfnjBdxVqYk-cgCgmPPwQImjjL3LNJ8YGfE=s64",
      "userId": "13621550804954747560"
     },
     "user_tz": 180
    },
    "id": "p9YyhXF9E95n"
   },
   "outputs": [],
   "source": [
    "import pandas as pd\n",
    "import numpy as np"
   ]
  },
  {
   "cell_type": "markdown",
   "metadata": {
    "id": "Wbb1jCSkF2Et"
   },
   "source": [
    "#Series (observe o índice do lado esquerdo)"
   ]
  },
  {
   "cell_type": "code",
   "execution_count": 2,
   "metadata": {
    "executionInfo": {
     "elapsed": 315,
     "status": "ok",
     "timestamp": 1632773150601,
     "user": {
      "displayName": "Jose Eduardo Santarem Segundo",
      "photoUrl": "https://lh3.googleusercontent.com/a-/AOh14GjLWfnjBdxVqYk-cgCgmPPwQImjjL3LNJ8YGfE=s64",
      "userId": "13621550804954747560"
     },
     "user_tz": 180
    },
    "id": "GNUW58kHFaVq"
   },
   "outputs": [],
   "source": [
    "s1=pd.Series([1,2,-5,0])"
   ]
  },
  {
   "cell_type": "code",
   "execution_count": 3,
   "metadata": {
    "colab": {
     "base_uri": "https://localhost:8080/"
    },
    "executionInfo": {
     "elapsed": 332,
     "status": "ok",
     "timestamp": 1632773155098,
     "user": {
      "displayName": "Jose Eduardo Santarem Segundo",
      "photoUrl": "https://lh3.googleusercontent.com/a-/AOh14GjLWfnjBdxVqYk-cgCgmPPwQImjjL3LNJ8YGfE=s64",
      "userId": "13621550804954747560"
     },
     "user_tz": 180
    },
    "id": "ZvNghffbGN-Z",
    "outputId": "bee24ded-677b-4026-f9cd-d51d2e53e674"
   },
   "outputs": [
    {
     "data": {
      "text/plain": [
       "0    1\n",
       "1    2\n",
       "2   -5\n",
       "3    0\n",
       "dtype: int64"
      ]
     },
     "execution_count": 3,
     "metadata": {},
     "output_type": "execute_result"
    }
   ],
   "source": [
    "s1"
   ]
  },
  {
   "cell_type": "code",
   "execution_count": 4,
   "metadata": {
    "colab": {
     "base_uri": "https://localhost:8080/"
    },
    "executionInfo": {
     "elapsed": 335,
     "status": "ok",
     "timestamp": 1632773178288,
     "user": {
      "displayName": "Jose Eduardo Santarem Segundo",
      "photoUrl": "https://lh3.googleusercontent.com/a-/AOh14GjLWfnjBdxVqYk-cgCgmPPwQImjjL3LNJ8YGfE=s64",
      "userId": "13621550804954747560"
     },
     "user_tz": 180
    },
    "id": "aoh1VboqGOKJ",
    "outputId": "7a7562a3-9277-4eb8-b48e-4e5b4064b1c6"
   },
   "outputs": [
    {
     "data": {
      "text/plain": [
       "array([ 1,  2, -5,  0])"
      ]
     },
     "execution_count": 4,
     "metadata": {},
     "output_type": "execute_result"
    }
   ],
   "source": [
    "s1.values"
   ]
  },
  {
   "cell_type": "code",
   "execution_count": 5,
   "metadata": {
    "colab": {
     "base_uri": "https://localhost:8080/"
    },
    "executionInfo": {
     "elapsed": 553,
     "status": "ok",
     "timestamp": 1632773190276,
     "user": {
      "displayName": "Jose Eduardo Santarem Segundo",
      "photoUrl": "https://lh3.googleusercontent.com/a-/AOh14GjLWfnjBdxVqYk-cgCgmPPwQImjjL3LNJ8YGfE=s64",
      "userId": "13621550804954747560"
     },
     "user_tz": 180
    },
    "id": "YpoyFI__GOVO",
    "outputId": "456777db-ea36-4c3b-ac16-23ef6b531dfb"
   },
   "outputs": [
    {
     "data": {
      "text/plain": [
       "RangeIndex(start=0, stop=4, step=1)"
      ]
     },
     "execution_count": 5,
     "metadata": {},
     "output_type": "execute_result"
    }
   ],
   "source": [
    "s1.index"
   ]
  },
  {
   "cell_type": "code",
   "execution_count": 6,
   "metadata": {
    "executionInfo": {
     "elapsed": 325,
     "status": "ok",
     "timestamp": 1632773254303,
     "user": {
      "displayName": "Jose Eduardo Santarem Segundo",
      "photoUrl": "https://lh3.googleusercontent.com/a-/AOh14GjLWfnjBdxVqYk-cgCgmPPwQImjjL3LNJ8YGfE=s64",
      "userId": "13621550804954747560"
     },
     "user_tz": 180
    },
    "id": "Mh19KgI8GOfE"
   },
   "outputs": [],
   "source": [
    "s2=pd.Series([1,2,-5,0], index=['a','b', 'c', 'd'])"
   ]
  },
  {
   "cell_type": "code",
   "execution_count": 7,
   "metadata": {
    "colab": {
     "base_uri": "https://localhost:8080/"
    },
    "executionInfo": {
     "elapsed": 324,
     "status": "ok",
     "timestamp": 1632773259757,
     "user": {
      "displayName": "Jose Eduardo Santarem Segundo",
      "photoUrl": "https://lh3.googleusercontent.com/a-/AOh14GjLWfnjBdxVqYk-cgCgmPPwQImjjL3LNJ8YGfE=s64",
      "userId": "13621550804954747560"
     },
     "user_tz": 180
    },
    "id": "EW78Sg8yGOo6",
    "outputId": "90375db1-24fc-4a6a-f6dc-18cd83f68574"
   },
   "outputs": [
    {
     "data": {
      "text/plain": [
       "a    1\n",
       "b    2\n",
       "c   -5\n",
       "d    0\n",
       "dtype: int64"
      ]
     },
     "execution_count": 7,
     "metadata": {},
     "output_type": "execute_result"
    }
   ],
   "source": [
    "s2"
   ]
  },
  {
   "cell_type": "code",
   "execution_count": 8,
   "metadata": {
    "colab": {
     "base_uri": "https://localhost:8080/"
    },
    "executionInfo": {
     "elapsed": 335,
     "status": "ok",
     "timestamp": 1632773281369,
     "user": {
      "displayName": "Jose Eduardo Santarem Segundo",
      "photoUrl": "https://lh3.googleusercontent.com/a-/AOh14GjLWfnjBdxVqYk-cgCgmPPwQImjjL3LNJ8YGfE=s64",
      "userId": "13621550804954747560"
     },
     "user_tz": 180
    },
    "id": "2_k5yuAlGOya",
    "outputId": "b78e0830-2d3d-47bf-cca7-424d7abea2f0"
   },
   "outputs": [
    {
     "data": {
      "text/plain": [
       "Index(['a', 'b', 'c', 'd'], dtype='object')"
      ]
     },
     "execution_count": 8,
     "metadata": {},
     "output_type": "execute_result"
    }
   ],
   "source": [
    "s2.index"
   ]
  },
  {
   "cell_type": "code",
   "execution_count": 9,
   "metadata": {
    "executionInfo": {
     "elapsed": 329,
     "status": "ok",
     "timestamp": 1632773300440,
     "user": {
      "displayName": "Jose Eduardo Santarem Segundo",
      "photoUrl": "https://lh3.googleusercontent.com/a-/AOh14GjLWfnjBdxVqYk-cgCgmPPwQImjjL3LNJ8YGfE=s64",
      "userId": "13621550804954747560"
     },
     "user_tz": 180
    },
    "id": "xG0fBog5GO7u"
   },
   "outputs": [],
   "source": [
    "s2['a']=1000"
   ]
  },
  {
   "cell_type": "code",
   "execution_count": 10,
   "metadata": {
    "colab": {
     "base_uri": "https://localhost:8080/"
    },
    "executionInfo": {
     "elapsed": 317,
     "status": "ok",
     "timestamp": 1632773304121,
     "user": {
      "displayName": "Jose Eduardo Santarem Segundo",
      "photoUrl": "https://lh3.googleusercontent.com/a-/AOh14GjLWfnjBdxVqYk-cgCgmPPwQImjjL3LNJ8YGfE=s64",
      "userId": "13621550804954747560"
     },
     "user_tz": 180
    },
    "id": "oz78Rk7bGPEW",
    "outputId": "3375cc72-3b17-4ff3-a300-8a4cbe209b09"
   },
   "outputs": [
    {
     "data": {
      "text/plain": [
       "a    1000\n",
       "b       2\n",
       "c      -5\n",
       "d       0\n",
       "dtype: int64"
      ]
     },
     "execution_count": 10,
     "metadata": {},
     "output_type": "execute_result"
    }
   ],
   "source": [
    "s2"
   ]
  },
  {
   "cell_type": "markdown",
   "metadata": {
    "id": "dZzAVJtAGPTS"
   },
   "source": [
    "#Comparação"
   ]
  },
  {
   "cell_type": "code",
   "execution_count": 11,
   "metadata": {
    "colab": {
     "base_uri": "https://localhost:8080/"
    },
    "executionInfo": {
     "elapsed": 560,
     "status": "ok",
     "timestamp": 1632773345444,
     "user": {
      "displayName": "Jose Eduardo Santarem Segundo",
      "photoUrl": "https://lh3.googleusercontent.com/a-/AOh14GjLWfnjBdxVqYk-cgCgmPPwQImjjL3LNJ8YGfE=s64",
      "userId": "13621550804954747560"
     },
     "user_tz": 180
    },
    "id": "Ac6qr2nAGRWI",
    "outputId": "3d3a2fc0-bf79-4e67-e1ba-c0aab9d6efdf"
   },
   "outputs": [
    {
     "data": {
      "text/plain": [
       "a    1000\n",
       "b       2\n",
       "dtype: int64"
      ]
     },
     "execution_count": 11,
     "metadata": {},
     "output_type": "execute_result"
    }
   ],
   "source": [
    "s2[s2>0]"
   ]
  },
  {
   "cell_type": "markdown",
   "metadata": {
    "id": "GgX6tPKcILdj"
   },
   "source": [
    "#Algebra"
   ]
  },
  {
   "cell_type": "code",
   "execution_count": 12,
   "metadata": {
    "colab": {
     "base_uri": "https://localhost:8080/"
    },
    "executionInfo": {
     "elapsed": 5,
     "status": "ok",
     "timestamp": 1632773367251,
     "user": {
      "displayName": "Jose Eduardo Santarem Segundo",
      "photoUrl": "https://lh3.googleusercontent.com/a-/AOh14GjLWfnjBdxVqYk-cgCgmPPwQImjjL3LNJ8YGfE=s64",
      "userId": "13621550804954747560"
     },
     "user_tz": 180
    },
    "id": "g6AeEOhxINIU",
    "outputId": "d8f5fd43-4e1e-431d-9433-23c41e9c319f"
   },
   "outputs": [
    {
     "data": {
      "text/plain": [
       "a    2000\n",
       "b       4\n",
       "c     -10\n",
       "d       0\n",
       "dtype: int64"
      ]
     },
     "execution_count": 12,
     "metadata": {},
     "output_type": "execute_result"
    }
   ],
   "source": [
    "s2*2"
   ]
  },
  {
   "cell_type": "code",
   "execution_count": 13,
   "metadata": {
    "colab": {
     "base_uri": "https://localhost:8080/"
    },
    "executionInfo": {
     "elapsed": 328,
     "status": "ok",
     "timestamp": 1632773376076,
     "user": {
      "displayName": "Jose Eduardo Santarem Segundo",
      "photoUrl": "https://lh3.googleusercontent.com/a-/AOh14GjLWfnjBdxVqYk-cgCgmPPwQImjjL3LNJ8YGfE=s64",
      "userId": "13621550804954747560"
     },
     "user_tz": 180
    },
    "id": "0MN6CBIeISqH",
    "outputId": "4fec3fa1-1774-4102-d858-9e1926f5b51b"
   },
   "outputs": [
    {
     "data": {
      "text/plain": [
       "a    1000\n",
       "b       2\n",
       "c      -5\n",
       "d       0\n",
       "dtype: int64"
      ]
     },
     "execution_count": 13,
     "metadata": {},
     "output_type": "execute_result"
    }
   ],
   "source": [
    "s2"
   ]
  },
  {
   "cell_type": "code",
   "execution_count": 14,
   "metadata": {
    "colab": {
     "base_uri": "https://localhost:8080/"
    },
    "executionInfo": {
     "elapsed": 667,
     "status": "ok",
     "timestamp": 1632773393320,
     "user": {
      "displayName": "Jose Eduardo Santarem Segundo",
      "photoUrl": "https://lh3.googleusercontent.com/a-/AOh14GjLWfnjBdxVqYk-cgCgmPPwQImjjL3LNJ8YGfE=s64",
      "userId": "13621550804954747560"
     },
     "user_tz": 180
    },
    "id": "zMxaa9qiISyZ",
    "outputId": "655c7f0e-d6dc-41f9-9f82-a9618834d020"
   },
   "outputs": [
    {
     "data": {
      "text/plain": [
       "a    False\n",
       "b    False\n",
       "c    False\n",
       "d    False\n",
       "dtype: bool"
      ]
     },
     "execution_count": 14,
     "metadata": {},
     "output_type": "execute_result"
    }
   ],
   "source": [
    "s2.isnull()"
   ]
  },
  {
   "cell_type": "markdown",
   "metadata": {
    "id": "HQSwG5qHITEI"
   },
   "source": [
    "#Dataframe"
   ]
  },
  {
   "cell_type": "markdown",
   "metadata": {
    "id": "QwEMZPQvKIIX"
   },
   "source": [
    "#Criar Dataframe"
   ]
  },
  {
   "cell_type": "code",
   "execution_count": 15,
   "metadata": {
    "executionInfo": {
     "elapsed": 445,
     "status": "ok",
     "timestamp": 1632773481414,
     "user": {
      "displayName": "Jose Eduardo Santarem Segundo",
      "photoUrl": "https://lh3.googleusercontent.com/a-/AOh14GjLWfnjBdxVqYk-cgCgmPPwQImjjL3LNJ8YGfE=s64",
      "userId": "13621550804954747560"
     },
     "user_tz": 180
    },
    "id": "DD7QkXVdIVyY"
   },
   "outputs": [],
   "source": [
    "dados={'estado':['SP', 'MG','PR','SP','MG','PR'], 'ano':[2019, 2019,2019, 2020,2020,2020], 'pop':[45.9, 21.2,16.9,46.6,21.4,17.3]}\n",
    "df1=pd.DataFrame(dados)"
   ]
  },
  {
   "cell_type": "code",
   "execution_count": 16,
   "metadata": {
    "colab": {
     "base_uri": "https://localhost:8080/",
     "height": 234
    },
    "executionInfo": {
     "elapsed": 418,
     "status": "ok",
     "timestamp": 1632773488386,
     "user": {
      "displayName": "Jose Eduardo Santarem Segundo",
      "photoUrl": "https://lh3.googleusercontent.com/a-/AOh14GjLWfnjBdxVqYk-cgCgmPPwQImjjL3LNJ8YGfE=s64",
      "userId": "13621550804954747560"
     },
     "user_tz": 180
    },
    "id": "vl1TmfPCKT31",
    "outputId": "1da2b63a-fdb2-4758-b720-803f957abdea"
   },
   "outputs": [
    {
     "data": {
      "text/html": [
       "<div>\n",
       "<style scoped>\n",
       "    .dataframe tbody tr th:only-of-type {\n",
       "        vertical-align: middle;\n",
       "    }\n",
       "\n",
       "    .dataframe tbody tr th {\n",
       "        vertical-align: top;\n",
       "    }\n",
       "\n",
       "    .dataframe thead th {\n",
       "        text-align: right;\n",
       "    }\n",
       "</style>\n",
       "<table border=\"1\" class=\"dataframe\">\n",
       "  <thead>\n",
       "    <tr style=\"text-align: right;\">\n",
       "      <th></th>\n",
       "      <th>estado</th>\n",
       "      <th>ano</th>\n",
       "      <th>pop</th>\n",
       "    </tr>\n",
       "  </thead>\n",
       "  <tbody>\n",
       "    <tr>\n",
       "      <th>0</th>\n",
       "      <td>SP</td>\n",
       "      <td>2019</td>\n",
       "      <td>45.9</td>\n",
       "    </tr>\n",
       "    <tr>\n",
       "      <th>1</th>\n",
       "      <td>MG</td>\n",
       "      <td>2019</td>\n",
       "      <td>21.2</td>\n",
       "    </tr>\n",
       "    <tr>\n",
       "      <th>2</th>\n",
       "      <td>PR</td>\n",
       "      <td>2019</td>\n",
       "      <td>16.9</td>\n",
       "    </tr>\n",
       "    <tr>\n",
       "      <th>3</th>\n",
       "      <td>SP</td>\n",
       "      <td>2020</td>\n",
       "      <td>46.6</td>\n",
       "    </tr>\n",
       "    <tr>\n",
       "      <th>4</th>\n",
       "      <td>MG</td>\n",
       "      <td>2020</td>\n",
       "      <td>21.4</td>\n",
       "    </tr>\n",
       "    <tr>\n",
       "      <th>5</th>\n",
       "      <td>PR</td>\n",
       "      <td>2020</td>\n",
       "      <td>17.3</td>\n",
       "    </tr>\n",
       "  </tbody>\n",
       "</table>\n",
       "</div>"
      ],
      "text/plain": [
       "  estado   ano   pop\n",
       "0     SP  2019  45.9\n",
       "1     MG  2019  21.2\n",
       "2     PR  2019  16.9\n",
       "3     SP  2020  46.6\n",
       "4     MG  2020  21.4\n",
       "5     PR  2020  17.3"
      ]
     },
     "execution_count": 16,
     "metadata": {},
     "output_type": "execute_result"
    }
   ],
   "source": [
    "df1"
   ]
  },
  {
   "cell_type": "code",
   "execution_count": 17,
   "metadata": {
    "colab": {
     "base_uri": "https://localhost:8080/",
     "height": 110
    },
    "executionInfo": {
     "elapsed": 544,
     "status": "ok",
     "timestamp": 1632773531836,
     "user": {
      "displayName": "Jose Eduardo Santarem Segundo",
      "photoUrl": "https://lh3.googleusercontent.com/a-/AOh14GjLWfnjBdxVqYk-cgCgmPPwQImjjL3LNJ8YGfE=s64",
      "userId": "13621550804954747560"
     },
     "user_tz": 180
    },
    "id": "cIIAlFU1KT_6",
    "outputId": "2b635214-5c6a-43f9-c4e5-a709b36279f3"
   },
   "outputs": [
    {
     "data": {
      "text/html": [
       "<div>\n",
       "<style scoped>\n",
       "    .dataframe tbody tr th:only-of-type {\n",
       "        vertical-align: middle;\n",
       "    }\n",
       "\n",
       "    .dataframe tbody tr th {\n",
       "        vertical-align: top;\n",
       "    }\n",
       "\n",
       "    .dataframe thead th {\n",
       "        text-align: right;\n",
       "    }\n",
       "</style>\n",
       "<table border=\"1\" class=\"dataframe\">\n",
       "  <thead>\n",
       "    <tr style=\"text-align: right;\">\n",
       "      <th></th>\n",
       "      <th>estado</th>\n",
       "      <th>ano</th>\n",
       "      <th>pop</th>\n",
       "    </tr>\n",
       "  </thead>\n",
       "  <tbody>\n",
       "    <tr>\n",
       "      <th>0</th>\n",
       "      <td>SP</td>\n",
       "      <td>2019</td>\n",
       "      <td>45.9</td>\n",
       "    </tr>\n",
       "    <tr>\n",
       "      <th>1</th>\n",
       "      <td>MG</td>\n",
       "      <td>2019</td>\n",
       "      <td>21.2</td>\n",
       "    </tr>\n",
       "  </tbody>\n",
       "</table>\n",
       "</div>"
      ],
      "text/plain": [
       "  estado   ano   pop\n",
       "0     SP  2019  45.9\n",
       "1     MG  2019  21.2"
      ]
     },
     "execution_count": 17,
     "metadata": {},
     "output_type": "execute_result"
    }
   ],
   "source": [
    "df1.head(2)"
   ]
  },
  {
   "cell_type": "markdown",
   "metadata": {
    "id": "R4mQtZRHKUOg"
   },
   "source": [
    "#Visualizar partes Dataframe\n"
   ]
  },
  {
   "cell_type": "code",
   "execution_count": 18,
   "metadata": {
    "colab": {
     "base_uri": "https://localhost:8080/",
     "height": 110
    },
    "executionInfo": {
     "elapsed": 586,
     "status": "ok",
     "timestamp": 1632773549288,
     "user": {
      "displayName": "Jose Eduardo Santarem Segundo",
      "photoUrl": "https://lh3.googleusercontent.com/a-/AOh14GjLWfnjBdxVqYk-cgCgmPPwQImjjL3LNJ8YGfE=s64",
      "userId": "13621550804954747560"
     },
     "user_tz": 180
    },
    "id": "IaUcyCBgKVut",
    "outputId": "1f07c894-37cf-40cf-d346-6f9af8055001"
   },
   "outputs": [
    {
     "data": {
      "text/html": [
       "<div>\n",
       "<style scoped>\n",
       "    .dataframe tbody tr th:only-of-type {\n",
       "        vertical-align: middle;\n",
       "    }\n",
       "\n",
       "    .dataframe tbody tr th {\n",
       "        vertical-align: top;\n",
       "    }\n",
       "\n",
       "    .dataframe thead th {\n",
       "        text-align: right;\n",
       "    }\n",
       "</style>\n",
       "<table border=\"1\" class=\"dataframe\">\n",
       "  <thead>\n",
       "    <tr style=\"text-align: right;\">\n",
       "      <th></th>\n",
       "      <th>estado</th>\n",
       "      <th>ano</th>\n",
       "      <th>pop</th>\n",
       "    </tr>\n",
       "  </thead>\n",
       "  <tbody>\n",
       "    <tr>\n",
       "      <th>4</th>\n",
       "      <td>MG</td>\n",
       "      <td>2020</td>\n",
       "      <td>21.4</td>\n",
       "    </tr>\n",
       "    <tr>\n",
       "      <th>5</th>\n",
       "      <td>PR</td>\n",
       "      <td>2020</td>\n",
       "      <td>17.3</td>\n",
       "    </tr>\n",
       "  </tbody>\n",
       "</table>\n",
       "</div>"
      ],
      "text/plain": [
       "  estado   ano   pop\n",
       "4     MG  2020  21.4\n",
       "5     PR  2020  17.3"
      ]
     },
     "execution_count": 18,
     "metadata": {},
     "output_type": "execute_result"
    }
   ],
   "source": [
    "df1.tail(2)"
   ]
  },
  {
   "cell_type": "code",
   "execution_count": 19,
   "metadata": {
    "colab": {
     "base_uri": "https://localhost:8080/",
     "height": 110
    },
    "executionInfo": {
     "elapsed": 444,
     "status": "ok",
     "timestamp": 1632773567418,
     "user": {
      "displayName": "Jose Eduardo Santarem Segundo",
      "photoUrl": "https://lh3.googleusercontent.com/a-/AOh14GjLWfnjBdxVqYk-cgCgmPPwQImjjL3LNJ8YGfE=s64",
      "userId": "13621550804954747560"
     },
     "user_tz": 180
    },
    "id": "w4jdFIv8Kofy",
    "outputId": "dbd48db5-ad9b-4a45-8be4-a98db2acd6d0"
   },
   "outputs": [
    {
     "data": {
      "text/html": [
       "<div>\n",
       "<style scoped>\n",
       "    .dataframe tbody tr th:only-of-type {\n",
       "        vertical-align: middle;\n",
       "    }\n",
       "\n",
       "    .dataframe tbody tr th {\n",
       "        vertical-align: top;\n",
       "    }\n",
       "\n",
       "    .dataframe thead th {\n",
       "        text-align: right;\n",
       "    }\n",
       "</style>\n",
       "<table border=\"1\" class=\"dataframe\">\n",
       "  <thead>\n",
       "    <tr style=\"text-align: right;\">\n",
       "      <th></th>\n",
       "      <th>estado</th>\n",
       "      <th>ano</th>\n",
       "      <th>pop</th>\n",
       "    </tr>\n",
       "  </thead>\n",
       "  <tbody>\n",
       "    <tr>\n",
       "      <th>2</th>\n",
       "      <td>PR</td>\n",
       "      <td>2019</td>\n",
       "      <td>16.9</td>\n",
       "    </tr>\n",
       "    <tr>\n",
       "      <th>5</th>\n",
       "      <td>PR</td>\n",
       "      <td>2020</td>\n",
       "      <td>17.3</td>\n",
       "    </tr>\n",
       "  </tbody>\n",
       "</table>\n",
       "</div>"
      ],
      "text/plain": [
       "  estado   ano   pop\n",
       "2     PR  2019  16.9\n",
       "5     PR  2020  17.3"
      ]
     },
     "execution_count": 19,
     "metadata": {},
     "output_type": "execute_result"
    }
   ],
   "source": [
    "df1.sample(2)"
   ]
  },
  {
   "cell_type": "code",
   "execution_count": null,
   "metadata": {
    "id": "c5jvgS2GKopR"
   },
   "outputs": [],
   "source": []
  },
  {
   "cell_type": "markdown",
   "metadata": {
    "id": "3RuYJr_tKo8c"
   },
   "source": [
    "#Novo DF a partir o anterior (veja as colunas)"
   ]
  },
  {
   "cell_type": "code",
   "execution_count": 20,
   "metadata": {
    "executionInfo": {
     "elapsed": 423,
     "status": "ok",
     "timestamp": 1632773648741,
     "user": {
      "displayName": "Jose Eduardo Santarem Segundo",
      "photoUrl": "https://lh3.googleusercontent.com/a-/AOh14GjLWfnjBdxVqYk-cgCgmPPwQImjjL3LNJ8YGfE=s64",
      "userId": "13621550804954747560"
     },
     "user_tz": 180
    },
    "id": "4I_8zC_WKrBu"
   },
   "outputs": [],
   "source": [
    "df2=pd.DataFrame(dados,columns=['ano','estado','pop'])"
   ]
  },
  {
   "cell_type": "code",
   "execution_count": 21,
   "metadata": {
    "colab": {
     "base_uri": "https://localhost:8080/",
     "height": 234
    },
    "executionInfo": {
     "elapsed": 618,
     "status": "ok",
     "timestamp": 1632773652265,
     "user": {
      "displayName": "Jose Eduardo Santarem Segundo",
      "photoUrl": "https://lh3.googleusercontent.com/a-/AOh14GjLWfnjBdxVqYk-cgCgmPPwQImjjL3LNJ8YGfE=s64",
      "userId": "13621550804954747560"
     },
     "user_tz": 180
    },
    "id": "JxOU-s8kK3-r",
    "outputId": "4bf2b4cc-a408-4ba9-af72-c3f5a9458c03"
   },
   "outputs": [
    {
     "data": {
      "text/html": [
       "<div>\n",
       "<style scoped>\n",
       "    .dataframe tbody tr th:only-of-type {\n",
       "        vertical-align: middle;\n",
       "    }\n",
       "\n",
       "    .dataframe tbody tr th {\n",
       "        vertical-align: top;\n",
       "    }\n",
       "\n",
       "    .dataframe thead th {\n",
       "        text-align: right;\n",
       "    }\n",
       "</style>\n",
       "<table border=\"1\" class=\"dataframe\">\n",
       "  <thead>\n",
       "    <tr style=\"text-align: right;\">\n",
       "      <th></th>\n",
       "      <th>ano</th>\n",
       "      <th>estado</th>\n",
       "      <th>pop</th>\n",
       "    </tr>\n",
       "  </thead>\n",
       "  <tbody>\n",
       "    <tr>\n",
       "      <th>0</th>\n",
       "      <td>2019</td>\n",
       "      <td>SP</td>\n",
       "      <td>45.9</td>\n",
       "    </tr>\n",
       "    <tr>\n",
       "      <th>1</th>\n",
       "      <td>2019</td>\n",
       "      <td>MG</td>\n",
       "      <td>21.2</td>\n",
       "    </tr>\n",
       "    <tr>\n",
       "      <th>2</th>\n",
       "      <td>2019</td>\n",
       "      <td>PR</td>\n",
       "      <td>16.9</td>\n",
       "    </tr>\n",
       "    <tr>\n",
       "      <th>3</th>\n",
       "      <td>2020</td>\n",
       "      <td>SP</td>\n",
       "      <td>46.6</td>\n",
       "    </tr>\n",
       "    <tr>\n",
       "      <th>4</th>\n",
       "      <td>2020</td>\n",
       "      <td>MG</td>\n",
       "      <td>21.4</td>\n",
       "    </tr>\n",
       "    <tr>\n",
       "      <th>5</th>\n",
       "      <td>2020</td>\n",
       "      <td>PR</td>\n",
       "      <td>17.3</td>\n",
       "    </tr>\n",
       "  </tbody>\n",
       "</table>\n",
       "</div>"
      ],
      "text/plain": [
       "    ano estado   pop\n",
       "0  2019     SP  45.9\n",
       "1  2019     MG  21.2\n",
       "2  2019     PR  16.9\n",
       "3  2020     SP  46.6\n",
       "4  2020     MG  21.4\n",
       "5  2020     PR  17.3"
      ]
     },
     "execution_count": 21,
     "metadata": {},
     "output_type": "execute_result"
    }
   ],
   "source": [
    "df2"
   ]
  },
  {
   "cell_type": "markdown",
   "metadata": {
    "id": "mKHKGHAzK5uT"
   },
   "source": [
    "#Observar DF"
   ]
  },
  {
   "cell_type": "code",
   "execution_count": 22,
   "metadata": {
    "colab": {
     "base_uri": "https://localhost:8080/"
    },
    "executionInfo": {
     "elapsed": 650,
     "status": "ok",
     "timestamp": 1632773683760,
     "user": {
      "displayName": "Jose Eduardo Santarem Segundo",
      "photoUrl": "https://lh3.googleusercontent.com/a-/AOh14GjLWfnjBdxVqYk-cgCgmPPwQImjjL3LNJ8YGfE=s64",
      "userId": "13621550804954747560"
     },
     "user_tz": 180
    },
    "id": "8X8hO490K67V",
    "outputId": "eff6fe29-dfcd-40b0-e6e0-bf2a7a4760f1"
   },
   "outputs": [
    {
     "data": {
      "text/plain": [
       "0    SP\n",
       "1    MG\n",
       "2    PR\n",
       "3    SP\n",
       "4    MG\n",
       "5    PR\n",
       "Name: estado, dtype: object"
      ]
     },
     "execution_count": 22,
     "metadata": {},
     "output_type": "execute_result"
    }
   ],
   "source": [
    "df2['estado']"
   ]
  },
  {
   "cell_type": "code",
   "execution_count": 23,
   "metadata": {
    "colab": {
     "base_uri": "https://localhost:8080/"
    },
    "executionInfo": {
     "elapsed": 364,
     "status": "ok",
     "timestamp": 1632773708741,
     "user": {
      "displayName": "Jose Eduardo Santarem Segundo",
      "photoUrl": "https://lh3.googleusercontent.com/a-/AOh14GjLWfnjBdxVqYk-cgCgmPPwQImjjL3LNJ8YGfE=s64",
      "userId": "13621550804954747560"
     },
     "user_tz": 180
    },
    "id": "PaSv7Lh6K-ER",
    "outputId": "544a7f56-2d4e-4b51-86ba-440b0bb8720a"
   },
   "outputs": [
    {
     "data": {
      "text/plain": [
       "0    2019\n",
       "1    2019\n",
       "2    2019\n",
       "3    2020\n",
       "4    2020\n",
       "5    2020\n",
       "Name: ano, dtype: int64"
      ]
     },
     "execution_count": 23,
     "metadata": {},
     "output_type": "execute_result"
    }
   ],
   "source": [
    "df2.ano"
   ]
  },
  {
   "cell_type": "code",
   "execution_count": 24,
   "metadata": {
    "colab": {
     "base_uri": "https://localhost:8080/"
    },
    "executionInfo": {
     "elapsed": 568,
     "status": "ok",
     "timestamp": 1632773729632,
     "user": {
      "displayName": "Jose Eduardo Santarem Segundo",
      "photoUrl": "https://lh3.googleusercontent.com/a-/AOh14GjLWfnjBdxVqYk-cgCgmPPwQImjjL3LNJ8YGfE=s64",
      "userId": "13621550804954747560"
     },
     "user_tz": 180
    },
    "id": "bmPb4U8vK-La",
    "outputId": "dd79b3d5-8658-4210-eeb0-e4934b52b14f"
   },
   "outputs": [
    {
     "data": {
      "text/plain": [
       "ano         int64\n",
       "estado     object\n",
       "pop       float64\n",
       "dtype: object"
      ]
     },
     "execution_count": 24,
     "metadata": {},
     "output_type": "execute_result"
    }
   ],
   "source": [
    "df2.dtypes"
   ]
  },
  {
   "cell_type": "markdown",
   "metadata": {
    "id": "-8tzJXX-K_Yx"
   },
   "source": [
    "#Atribuir Valores"
   ]
  },
  {
   "cell_type": "code",
   "execution_count": 25,
   "metadata": {
    "executionInfo": {
     "elapsed": 511,
     "status": "ok",
     "timestamp": 1632773775587,
     "user": {
      "displayName": "Jose Eduardo Santarem Segundo",
      "photoUrl": "https://lh3.googleusercontent.com/a-/AOh14GjLWfnjBdxVqYk-cgCgmPPwQImjjL3LNJ8YGfE=s64",
      "userId": "13621550804954747560"
     },
     "user_tz": 180
    },
    "id": "ZqKCckJ9LAYy"
   },
   "outputs": [],
   "source": [
    "df2['estimativa']=50"
   ]
  },
  {
   "cell_type": "code",
   "execution_count": 26,
   "metadata": {
    "colab": {
     "base_uri": "https://localhost:8080/",
     "height": 234
    },
    "executionInfo": {
     "elapsed": 328,
     "status": "ok",
     "timestamp": 1632773779043,
     "user": {
      "displayName": "Jose Eduardo Santarem Segundo",
      "photoUrl": "https://lh3.googleusercontent.com/a-/AOh14GjLWfnjBdxVqYk-cgCgmPPwQImjjL3LNJ8YGfE=s64",
      "userId": "13621550804954747560"
     },
     "user_tz": 180
    },
    "id": "xdvba_OWLJYG",
    "outputId": "3c02fde6-8696-4392-a161-af182786a595"
   },
   "outputs": [
    {
     "data": {
      "text/html": [
       "<div>\n",
       "<style scoped>\n",
       "    .dataframe tbody tr th:only-of-type {\n",
       "        vertical-align: middle;\n",
       "    }\n",
       "\n",
       "    .dataframe tbody tr th {\n",
       "        vertical-align: top;\n",
       "    }\n",
       "\n",
       "    .dataframe thead th {\n",
       "        text-align: right;\n",
       "    }\n",
       "</style>\n",
       "<table border=\"1\" class=\"dataframe\">\n",
       "  <thead>\n",
       "    <tr style=\"text-align: right;\">\n",
       "      <th></th>\n",
       "      <th>ano</th>\n",
       "      <th>estado</th>\n",
       "      <th>pop</th>\n",
       "      <th>estimativa</th>\n",
       "    </tr>\n",
       "  </thead>\n",
       "  <tbody>\n",
       "    <tr>\n",
       "      <th>0</th>\n",
       "      <td>2019</td>\n",
       "      <td>SP</td>\n",
       "      <td>45.9</td>\n",
       "      <td>50</td>\n",
       "    </tr>\n",
       "    <tr>\n",
       "      <th>1</th>\n",
       "      <td>2019</td>\n",
       "      <td>MG</td>\n",
       "      <td>21.2</td>\n",
       "      <td>50</td>\n",
       "    </tr>\n",
       "    <tr>\n",
       "      <th>2</th>\n",
       "      <td>2019</td>\n",
       "      <td>PR</td>\n",
       "      <td>16.9</td>\n",
       "      <td>50</td>\n",
       "    </tr>\n",
       "    <tr>\n",
       "      <th>3</th>\n",
       "      <td>2020</td>\n",
       "      <td>SP</td>\n",
       "      <td>46.6</td>\n",
       "      <td>50</td>\n",
       "    </tr>\n",
       "    <tr>\n",
       "      <th>4</th>\n",
       "      <td>2020</td>\n",
       "      <td>MG</td>\n",
       "      <td>21.4</td>\n",
       "      <td>50</td>\n",
       "    </tr>\n",
       "    <tr>\n",
       "      <th>5</th>\n",
       "      <td>2020</td>\n",
       "      <td>PR</td>\n",
       "      <td>17.3</td>\n",
       "      <td>50</td>\n",
       "    </tr>\n",
       "  </tbody>\n",
       "</table>\n",
       "</div>"
      ],
      "text/plain": [
       "    ano estado   pop  estimativa\n",
       "0  2019     SP  45.9          50\n",
       "1  2019     MG  21.2          50\n",
       "2  2019     PR  16.9          50\n",
       "3  2020     SP  46.6          50\n",
       "4  2020     MG  21.4          50\n",
       "5  2020     PR  17.3          50"
      ]
     },
     "execution_count": 26,
     "metadata": {},
     "output_type": "execute_result"
    }
   ],
   "source": [
    "df2"
   ]
  },
  {
   "cell_type": "code",
   "execution_count": 27,
   "metadata": {
    "executionInfo": {
     "elapsed": 385,
     "status": "ok",
     "timestamp": 1632773844114,
     "user": {
      "displayName": "Jose Eduardo Santarem Segundo",
      "photoUrl": "https://lh3.googleusercontent.com/a-/AOh14GjLWfnjBdxVqYk-cgCgmPPwQImjjL3LNJ8YGfE=s64",
      "userId": "13621550804954747560"
     },
     "user_tz": 180
    },
    "id": "o1G-Q87HLJid"
   },
   "outputs": [],
   "source": [
    "df2['estimativa']=np.arange(6)"
   ]
  },
  {
   "cell_type": "code",
   "execution_count": 28,
   "metadata": {
    "colab": {
     "base_uri": "https://localhost:8080/",
     "height": 234
    },
    "executionInfo": {
     "elapsed": 378,
     "status": "ok",
     "timestamp": 1632773850467,
     "user": {
      "displayName": "Jose Eduardo Santarem Segundo",
      "photoUrl": "https://lh3.googleusercontent.com/a-/AOh14GjLWfnjBdxVqYk-cgCgmPPwQImjjL3LNJ8YGfE=s64",
      "userId": "13621550804954747560"
     },
     "user_tz": 180
    },
    "id": "nHamN__PLJqu",
    "outputId": "d6d3cb98-b514-45b5-90f6-c7f15d745f6e"
   },
   "outputs": [
    {
     "data": {
      "text/html": [
       "<div>\n",
       "<style scoped>\n",
       "    .dataframe tbody tr th:only-of-type {\n",
       "        vertical-align: middle;\n",
       "    }\n",
       "\n",
       "    .dataframe tbody tr th {\n",
       "        vertical-align: top;\n",
       "    }\n",
       "\n",
       "    .dataframe thead th {\n",
       "        text-align: right;\n",
       "    }\n",
       "</style>\n",
       "<table border=\"1\" class=\"dataframe\">\n",
       "  <thead>\n",
       "    <tr style=\"text-align: right;\">\n",
       "      <th></th>\n",
       "      <th>ano</th>\n",
       "      <th>estado</th>\n",
       "      <th>pop</th>\n",
       "      <th>estimativa</th>\n",
       "    </tr>\n",
       "  </thead>\n",
       "  <tbody>\n",
       "    <tr>\n",
       "      <th>0</th>\n",
       "      <td>2019</td>\n",
       "      <td>SP</td>\n",
       "      <td>45.9</td>\n",
       "      <td>0</td>\n",
       "    </tr>\n",
       "    <tr>\n",
       "      <th>1</th>\n",
       "      <td>2019</td>\n",
       "      <td>MG</td>\n",
       "      <td>21.2</td>\n",
       "      <td>1</td>\n",
       "    </tr>\n",
       "    <tr>\n",
       "      <th>2</th>\n",
       "      <td>2019</td>\n",
       "      <td>PR</td>\n",
       "      <td>16.9</td>\n",
       "      <td>2</td>\n",
       "    </tr>\n",
       "    <tr>\n",
       "      <th>3</th>\n",
       "      <td>2020</td>\n",
       "      <td>SP</td>\n",
       "      <td>46.6</td>\n",
       "      <td>3</td>\n",
       "    </tr>\n",
       "    <tr>\n",
       "      <th>4</th>\n",
       "      <td>2020</td>\n",
       "      <td>MG</td>\n",
       "      <td>21.4</td>\n",
       "      <td>4</td>\n",
       "    </tr>\n",
       "    <tr>\n",
       "      <th>5</th>\n",
       "      <td>2020</td>\n",
       "      <td>PR</td>\n",
       "      <td>17.3</td>\n",
       "      <td>5</td>\n",
       "    </tr>\n",
       "  </tbody>\n",
       "</table>\n",
       "</div>"
      ],
      "text/plain": [
       "    ano estado   pop  estimativa\n",
       "0  2019     SP  45.9           0\n",
       "1  2019     MG  21.2           1\n",
       "2  2019     PR  16.9           2\n",
       "3  2020     SP  46.6           3\n",
       "4  2020     MG  21.4           4\n",
       "5  2020     PR  17.3           5"
      ]
     },
     "execution_count": 28,
     "metadata": {},
     "output_type": "execute_result"
    }
   ],
   "source": [
    "df2"
   ]
  },
  {
   "cell_type": "code",
   "execution_count": 29,
   "metadata": {
    "executionInfo": {
     "elapsed": 407,
     "status": "ok",
     "timestamp": 1632773868894,
     "user": {
      "displayName": "Jose Eduardo Santarem Segundo",
      "photoUrl": "https://lh3.googleusercontent.com/a-/AOh14GjLWfnjBdxVqYk-cgCgmPPwQImjjL3LNJ8YGfE=s64",
      "userId": "13621550804954747560"
     },
     "user_tz": 180
    },
    "id": "sdsE0PsNLJyo"
   },
   "outputs": [],
   "source": [
    "df3=df2"
   ]
  },
  {
   "cell_type": "code",
   "execution_count": 30,
   "metadata": {
    "colab": {
     "base_uri": "https://localhost:8080/",
     "height": 234
    },
    "executionInfo": {
     "elapsed": 426,
     "status": "ok",
     "timestamp": 1632773872783,
     "user": {
      "displayName": "Jose Eduardo Santarem Segundo",
      "photoUrl": "https://lh3.googleusercontent.com/a-/AOh14GjLWfnjBdxVqYk-cgCgmPPwQImjjL3LNJ8YGfE=s64",
      "userId": "13621550804954747560"
     },
     "user_tz": 180
    },
    "id": "oZRhhw-kLJ5J",
    "outputId": "ae479142-c507-4177-a785-81c88937f977"
   },
   "outputs": [
    {
     "data": {
      "text/html": [
       "<div>\n",
       "<style scoped>\n",
       "    .dataframe tbody tr th:only-of-type {\n",
       "        vertical-align: middle;\n",
       "    }\n",
       "\n",
       "    .dataframe tbody tr th {\n",
       "        vertical-align: top;\n",
       "    }\n",
       "\n",
       "    .dataframe thead th {\n",
       "        text-align: right;\n",
       "    }\n",
       "</style>\n",
       "<table border=\"1\" class=\"dataframe\">\n",
       "  <thead>\n",
       "    <tr style=\"text-align: right;\">\n",
       "      <th></th>\n",
       "      <th>ano</th>\n",
       "      <th>estado</th>\n",
       "      <th>pop</th>\n",
       "      <th>estimativa</th>\n",
       "    </tr>\n",
       "  </thead>\n",
       "  <tbody>\n",
       "    <tr>\n",
       "      <th>0</th>\n",
       "      <td>2019</td>\n",
       "      <td>SP</td>\n",
       "      <td>45.9</td>\n",
       "      <td>0</td>\n",
       "    </tr>\n",
       "    <tr>\n",
       "      <th>1</th>\n",
       "      <td>2019</td>\n",
       "      <td>MG</td>\n",
       "      <td>21.2</td>\n",
       "      <td>1</td>\n",
       "    </tr>\n",
       "    <tr>\n",
       "      <th>2</th>\n",
       "      <td>2019</td>\n",
       "      <td>PR</td>\n",
       "      <td>16.9</td>\n",
       "      <td>2</td>\n",
       "    </tr>\n",
       "    <tr>\n",
       "      <th>3</th>\n",
       "      <td>2020</td>\n",
       "      <td>SP</td>\n",
       "      <td>46.6</td>\n",
       "      <td>3</td>\n",
       "    </tr>\n",
       "    <tr>\n",
       "      <th>4</th>\n",
       "      <td>2020</td>\n",
       "      <td>MG</td>\n",
       "      <td>21.4</td>\n",
       "      <td>4</td>\n",
       "    </tr>\n",
       "    <tr>\n",
       "      <th>5</th>\n",
       "      <td>2020</td>\n",
       "      <td>PR</td>\n",
       "      <td>17.3</td>\n",
       "      <td>5</td>\n",
       "    </tr>\n",
       "  </tbody>\n",
       "</table>\n",
       "</div>"
      ],
      "text/plain": [
       "    ano estado   pop  estimativa\n",
       "0  2019     SP  45.9           0\n",
       "1  2019     MG  21.2           1\n",
       "2  2019     PR  16.9           2\n",
       "3  2020     SP  46.6           3\n",
       "4  2020     MG  21.4           4\n",
       "5  2020     PR  17.3           5"
      ]
     },
     "execution_count": 30,
     "metadata": {},
     "output_type": "execute_result"
    }
   ],
   "source": [
    "df3"
   ]
  },
  {
   "cell_type": "code",
   "execution_count": 31,
   "metadata": {
    "executionInfo": {
     "elapsed": 517,
     "status": "ok",
     "timestamp": 1632773906168,
     "user": {
      "displayName": "Jose Eduardo Santarem Segundo",
      "photoUrl": "https://lh3.googleusercontent.com/a-/AOh14GjLWfnjBdxVqYk-cgCgmPPwQImjjL3LNJ8YGfE=s64",
      "userId": "13621550804954747560"
     },
     "user_tz": 180
    },
    "id": "hff_APBxLJ-w"
   },
   "outputs": [],
   "source": [
    "df3=df2['ano']"
   ]
  },
  {
   "cell_type": "code",
   "execution_count": 32,
   "metadata": {
    "colab": {
     "base_uri": "https://localhost:8080/"
    },
    "executionInfo": {
     "elapsed": 391,
     "status": "ok",
     "timestamp": 1632773910470,
     "user": {
      "displayName": "Jose Eduardo Santarem Segundo",
      "photoUrl": "https://lh3.googleusercontent.com/a-/AOh14GjLWfnjBdxVqYk-cgCgmPPwQImjjL3LNJ8YGfE=s64",
      "userId": "13621550804954747560"
     },
     "user_tz": 180
    },
    "id": "KuoLr-wRLKEb",
    "outputId": "59596a56-2622-4e21-d93a-2d3a6c7ee89d"
   },
   "outputs": [
    {
     "data": {
      "text/plain": [
       "0    2019\n",
       "1    2019\n",
       "2    2019\n",
       "3    2020\n",
       "4    2020\n",
       "5    2020\n",
       "Name: ano, dtype: int64"
      ]
     },
     "execution_count": 32,
     "metadata": {},
     "output_type": "execute_result"
    }
   ],
   "source": [
    "df3"
   ]
  },
  {
   "cell_type": "code",
   "execution_count": 33,
   "metadata": {
    "executionInfo": {
     "elapsed": 317,
     "status": "ok",
     "timestamp": 1632773986621,
     "user": {
      "displayName": "Jose Eduardo Santarem Segundo",
      "photoUrl": "https://lh3.googleusercontent.com/a-/AOh14GjLWfnjBdxVqYk-cgCgmPPwQImjjL3LNJ8YGfE=s64",
      "userId": "13621550804954747560"
     },
     "user_tz": 180
    },
    "id": "F2qn98BwLKMI"
   },
   "outputs": [],
   "source": [
    "df2['Não Paraná']=df2.estado!='PR'"
   ]
  },
  {
   "cell_type": "code",
   "execution_count": 34,
   "metadata": {
    "colab": {
     "base_uri": "https://localhost:8080/",
     "height": 234
    },
    "executionInfo": {
     "elapsed": 351,
     "status": "ok",
     "timestamp": 1632773990280,
     "user": {
      "displayName": "Jose Eduardo Santarem Segundo",
      "photoUrl": "https://lh3.googleusercontent.com/a-/AOh14GjLWfnjBdxVqYk-cgCgmPPwQImjjL3LNJ8YGfE=s64",
      "userId": "13621550804954747560"
     },
     "user_tz": 180
    },
    "id": "zHFXJqdWLKW2",
    "outputId": "aa53a72a-f9e4-41b1-a600-56c2f8760304"
   },
   "outputs": [
    {
     "data": {
      "text/html": [
       "<div>\n",
       "<style scoped>\n",
       "    .dataframe tbody tr th:only-of-type {\n",
       "        vertical-align: middle;\n",
       "    }\n",
       "\n",
       "    .dataframe tbody tr th {\n",
       "        vertical-align: top;\n",
       "    }\n",
       "\n",
       "    .dataframe thead th {\n",
       "        text-align: right;\n",
       "    }\n",
       "</style>\n",
       "<table border=\"1\" class=\"dataframe\">\n",
       "  <thead>\n",
       "    <tr style=\"text-align: right;\">\n",
       "      <th></th>\n",
       "      <th>ano</th>\n",
       "      <th>estado</th>\n",
       "      <th>pop</th>\n",
       "      <th>estimativa</th>\n",
       "      <th>Não Paraná</th>\n",
       "    </tr>\n",
       "  </thead>\n",
       "  <tbody>\n",
       "    <tr>\n",
       "      <th>0</th>\n",
       "      <td>2019</td>\n",
       "      <td>SP</td>\n",
       "      <td>45.9</td>\n",
       "      <td>0</td>\n",
       "      <td>True</td>\n",
       "    </tr>\n",
       "    <tr>\n",
       "      <th>1</th>\n",
       "      <td>2019</td>\n",
       "      <td>MG</td>\n",
       "      <td>21.2</td>\n",
       "      <td>1</td>\n",
       "      <td>True</td>\n",
       "    </tr>\n",
       "    <tr>\n",
       "      <th>2</th>\n",
       "      <td>2019</td>\n",
       "      <td>PR</td>\n",
       "      <td>16.9</td>\n",
       "      <td>2</td>\n",
       "      <td>False</td>\n",
       "    </tr>\n",
       "    <tr>\n",
       "      <th>3</th>\n",
       "      <td>2020</td>\n",
       "      <td>SP</td>\n",
       "      <td>46.6</td>\n",
       "      <td>3</td>\n",
       "      <td>True</td>\n",
       "    </tr>\n",
       "    <tr>\n",
       "      <th>4</th>\n",
       "      <td>2020</td>\n",
       "      <td>MG</td>\n",
       "      <td>21.4</td>\n",
       "      <td>4</td>\n",
       "      <td>True</td>\n",
       "    </tr>\n",
       "    <tr>\n",
       "      <th>5</th>\n",
       "      <td>2020</td>\n",
       "      <td>PR</td>\n",
       "      <td>17.3</td>\n",
       "      <td>5</td>\n",
       "      <td>False</td>\n",
       "    </tr>\n",
       "  </tbody>\n",
       "</table>\n",
       "</div>"
      ],
      "text/plain": [
       "    ano estado   pop  estimativa  Não Paraná\n",
       "0  2019     SP  45.9           0        True\n",
       "1  2019     MG  21.2           1        True\n",
       "2  2019     PR  16.9           2       False\n",
       "3  2020     SP  46.6           3        True\n",
       "4  2020     MG  21.4           4        True\n",
       "5  2020     PR  17.3           5       False"
      ]
     },
     "execution_count": 34,
     "metadata": {},
     "output_type": "execute_result"
    }
   ],
   "source": [
    "df2"
   ]
  },
  {
   "cell_type": "markdown",
   "metadata": {
    "id": "jzOMxAb2LKle"
   },
   "source": [
    "#Excluir Coluna"
   ]
  },
  {
   "cell_type": "code",
   "execution_count": 35,
   "metadata": {
    "executionInfo": {
     "elapsed": 426,
     "status": "ok",
     "timestamp": 1632774033963,
     "user": {
      "displayName": "Jose Eduardo Santarem Segundo",
      "photoUrl": "https://lh3.googleusercontent.com/a-/AOh14GjLWfnjBdxVqYk-cgCgmPPwQImjjL3LNJ8YGfE=s64",
      "userId": "13621550804954747560"
     },
     "user_tz": 180
    },
    "id": "Y93CnwE8LRYA"
   },
   "outputs": [],
   "source": [
    "del df2['Não Paraná']"
   ]
  },
  {
   "cell_type": "code",
   "execution_count": 36,
   "metadata": {
    "colab": {
     "base_uri": "https://localhost:8080/",
     "height": 234
    },
    "executionInfo": {
     "elapsed": 366,
     "status": "ok",
     "timestamp": 1632774037653,
     "user": {
      "displayName": "Jose Eduardo Santarem Segundo",
      "photoUrl": "https://lh3.googleusercontent.com/a-/AOh14GjLWfnjBdxVqYk-cgCgmPPwQImjjL3LNJ8YGfE=s64",
      "userId": "13621550804954747560"
     },
     "user_tz": 180
    },
    "id": "7z_3lwfmLR-q",
    "outputId": "08883fb3-3ae0-4451-c470-6e2d3f659d36"
   },
   "outputs": [
    {
     "data": {
      "text/html": [
       "<div>\n",
       "<style scoped>\n",
       "    .dataframe tbody tr th:only-of-type {\n",
       "        vertical-align: middle;\n",
       "    }\n",
       "\n",
       "    .dataframe tbody tr th {\n",
       "        vertical-align: top;\n",
       "    }\n",
       "\n",
       "    .dataframe thead th {\n",
       "        text-align: right;\n",
       "    }\n",
       "</style>\n",
       "<table border=\"1\" class=\"dataframe\">\n",
       "  <thead>\n",
       "    <tr style=\"text-align: right;\">\n",
       "      <th></th>\n",
       "      <th>ano</th>\n",
       "      <th>estado</th>\n",
       "      <th>pop</th>\n",
       "      <th>estimativa</th>\n",
       "    </tr>\n",
       "  </thead>\n",
       "  <tbody>\n",
       "    <tr>\n",
       "      <th>0</th>\n",
       "      <td>2019</td>\n",
       "      <td>SP</td>\n",
       "      <td>45.9</td>\n",
       "      <td>0</td>\n",
       "    </tr>\n",
       "    <tr>\n",
       "      <th>1</th>\n",
       "      <td>2019</td>\n",
       "      <td>MG</td>\n",
       "      <td>21.2</td>\n",
       "      <td>1</td>\n",
       "    </tr>\n",
       "    <tr>\n",
       "      <th>2</th>\n",
       "      <td>2019</td>\n",
       "      <td>PR</td>\n",
       "      <td>16.9</td>\n",
       "      <td>2</td>\n",
       "    </tr>\n",
       "    <tr>\n",
       "      <th>3</th>\n",
       "      <td>2020</td>\n",
       "      <td>SP</td>\n",
       "      <td>46.6</td>\n",
       "      <td>3</td>\n",
       "    </tr>\n",
       "    <tr>\n",
       "      <th>4</th>\n",
       "      <td>2020</td>\n",
       "      <td>MG</td>\n",
       "      <td>21.4</td>\n",
       "      <td>4</td>\n",
       "    </tr>\n",
       "    <tr>\n",
       "      <th>5</th>\n",
       "      <td>2020</td>\n",
       "      <td>PR</td>\n",
       "      <td>17.3</td>\n",
       "      <td>5</td>\n",
       "    </tr>\n",
       "  </tbody>\n",
       "</table>\n",
       "</div>"
      ],
      "text/plain": [
       "    ano estado   pop  estimativa\n",
       "0  2019     SP  45.9           0\n",
       "1  2019     MG  21.2           1\n",
       "2  2019     PR  16.9           2\n",
       "3  2020     SP  46.6           3\n",
       "4  2020     MG  21.4           4\n",
       "5  2020     PR  17.3           5"
      ]
     },
     "execution_count": 36,
     "metadata": {},
     "output_type": "execute_result"
    }
   ],
   "source": [
    "df2"
   ]
  },
  {
   "cell_type": "markdown",
   "metadata": {
    "id": "7Y6zf4TDLSM4"
   },
   "source": [
    "#Entender o DataFrame"
   ]
  },
  {
   "cell_type": "code",
   "execution_count": 37,
   "metadata": {
    "colab": {
     "base_uri": "https://localhost:8080/"
    },
    "executionInfo": {
     "elapsed": 373,
     "status": "ok",
     "timestamp": 1632774056696,
     "user": {
      "displayName": "Jose Eduardo Santarem Segundo",
      "photoUrl": "https://lh3.googleusercontent.com/a-/AOh14GjLWfnjBdxVqYk-cgCgmPPwQImjjL3LNJ8YGfE=s64",
      "userId": "13621550804954747560"
     },
     "user_tz": 180
    },
    "id": "GLEYTNypLYNX",
    "outputId": "4ccef611-8453-4b96-f288-08f2d57a3789"
   },
   "outputs": [
    {
     "data": {
      "text/plain": [
       "(6, 4)"
      ]
     },
     "execution_count": 37,
     "metadata": {},
     "output_type": "execute_result"
    }
   ],
   "source": [
    "df2.shape"
   ]
  },
  {
   "cell_type": "code",
   "execution_count": 38,
   "metadata": {
    "colab": {
     "base_uri": "https://localhost:8080/"
    },
    "executionInfo": {
     "elapsed": 420,
     "status": "ok",
     "timestamp": 1632774085821,
     "user": {
      "displayName": "Jose Eduardo Santarem Segundo",
      "photoUrl": "https://lh3.googleusercontent.com/a-/AOh14GjLWfnjBdxVqYk-cgCgmPPwQImjjL3LNJ8YGfE=s64",
      "userId": "13621550804954747560"
     },
     "user_tz": 180
    },
    "id": "KwKobQkhLu2f",
    "outputId": "84125635-c68c-4f59-d01e-f20d20393cf3"
   },
   "outputs": [
    {
     "data": {
      "text/plain": [
       "6"
      ]
     },
     "execution_count": 38,
     "metadata": {},
     "output_type": "execute_result"
    }
   ],
   "source": [
    "df2.shape[0]"
   ]
  },
  {
   "cell_type": "code",
   "execution_count": 39,
   "metadata": {
    "colab": {
     "base_uri": "https://localhost:8080/"
    },
    "executionInfo": {
     "elapsed": 312,
     "status": "ok",
     "timestamp": 1632774102881,
     "user": {
      "displayName": "Jose Eduardo Santarem Segundo",
      "photoUrl": "https://lh3.googleusercontent.com/a-/AOh14GjLWfnjBdxVqYk-cgCgmPPwQImjjL3LNJ8YGfE=s64",
      "userId": "13621550804954747560"
     },
     "user_tz": 180
    },
    "id": "fIhTEDswLu_c",
    "outputId": "9363035e-e561-47d0-9625-86c52f00a615"
   },
   "outputs": [
    {
     "data": {
      "text/plain": [
       "RangeIndex(start=0, stop=6, step=1)"
      ]
     },
     "execution_count": 39,
     "metadata": {},
     "output_type": "execute_result"
    }
   ],
   "source": [
    "df2.index"
   ]
  },
  {
   "cell_type": "code",
   "execution_count": 40,
   "metadata": {
    "colab": {
     "base_uri": "https://localhost:8080/"
    },
    "executionInfo": {
     "elapsed": 327,
     "status": "ok",
     "timestamp": 1632774125240,
     "user": {
      "displayName": "Jose Eduardo Santarem Segundo",
      "photoUrl": "https://lh3.googleusercontent.com/a-/AOh14GjLWfnjBdxVqYk-cgCgmPPwQImjjL3LNJ8YGfE=s64",
      "userId": "13621550804954747560"
     },
     "user_tz": 180
    },
    "id": "w0wMoq73LvHA",
    "outputId": "808298d0-3dc8-40d5-b00c-b103e4935dde"
   },
   "outputs": [
    {
     "data": {
      "text/plain": [
       "Index(['ano', 'estado', 'pop', 'estimativa'], dtype='object')"
      ]
     },
     "execution_count": 40,
     "metadata": {},
     "output_type": "execute_result"
    }
   ],
   "source": [
    "df2.columns"
   ]
  },
  {
   "cell_type": "code",
   "execution_count": 41,
   "metadata": {
    "colab": {
     "base_uri": "https://localhost:8080/"
    },
    "executionInfo": {
     "elapsed": 6,
     "status": "ok",
     "timestamp": 1632774137182,
     "user": {
      "displayName": "Jose Eduardo Santarem Segundo",
      "photoUrl": "https://lh3.googleusercontent.com/a-/AOh14GjLWfnjBdxVqYk-cgCgmPPwQImjjL3LNJ8YGfE=s64",
      "userId": "13621550804954747560"
     },
     "user_tz": 180
    },
    "id": "trd2swxsLvOk",
    "outputId": "e2716764-34f9-454f-8c7d-64c94470fef4"
   },
   "outputs": [
    {
     "data": {
      "text/plain": [
       "ano           6\n",
       "estado        6\n",
       "pop           6\n",
       "estimativa    6\n",
       "dtype: int64"
      ]
     },
     "execution_count": 41,
     "metadata": {},
     "output_type": "execute_result"
    }
   ],
   "source": [
    "df2.count()"
   ]
  },
  {
   "cell_type": "markdown",
   "metadata": {
    "id": "jFeBpjifLvjK"
   },
   "source": [
    "#Alterar Informação das Colunas"
   ]
  },
  {
   "cell_type": "code",
   "execution_count": 42,
   "metadata": {
    "executionInfo": {
     "elapsed": 324,
     "status": "ok",
     "timestamp": 1632774211989,
     "user": {
      "displayName": "Jose Eduardo Santarem Segundo",
      "photoUrl": "https://lh3.googleusercontent.com/a-/AOh14GjLWfnjBdxVqYk-cgCgmPPwQImjjL3LNJ8YGfE=s64",
      "userId": "13621550804954747560"
     },
     "user_tz": 180
    },
    "id": "G1i2g9e8L2EH"
   },
   "outputs": [],
   "source": [
    "df2.columns=['Ano','estado','Populacao','estimativa']"
   ]
  },
  {
   "cell_type": "code",
   "execution_count": 43,
   "metadata": {
    "colab": {
     "base_uri": "https://localhost:8080/",
     "height": 234
    },
    "executionInfo": {
     "elapsed": 344,
     "status": "ok",
     "timestamp": 1632774215492,
     "user": {
      "displayName": "Jose Eduardo Santarem Segundo",
      "photoUrl": "https://lh3.googleusercontent.com/a-/AOh14GjLWfnjBdxVqYk-cgCgmPPwQImjjL3LNJ8YGfE=s64",
      "userId": "13621550804954747560"
     },
     "user_tz": 180
    },
    "id": "Oxs6bzTMNBpI",
    "outputId": "a8fc67c9-3dcc-49bc-de1b-65f2e27eb875"
   },
   "outputs": [
    {
     "data": {
      "text/html": [
       "<div>\n",
       "<style scoped>\n",
       "    .dataframe tbody tr th:only-of-type {\n",
       "        vertical-align: middle;\n",
       "    }\n",
       "\n",
       "    .dataframe tbody tr th {\n",
       "        vertical-align: top;\n",
       "    }\n",
       "\n",
       "    .dataframe thead th {\n",
       "        text-align: right;\n",
       "    }\n",
       "</style>\n",
       "<table border=\"1\" class=\"dataframe\">\n",
       "  <thead>\n",
       "    <tr style=\"text-align: right;\">\n",
       "      <th></th>\n",
       "      <th>Ano</th>\n",
       "      <th>estado</th>\n",
       "      <th>Populacao</th>\n",
       "      <th>estimativa</th>\n",
       "    </tr>\n",
       "  </thead>\n",
       "  <tbody>\n",
       "    <tr>\n",
       "      <th>0</th>\n",
       "      <td>2019</td>\n",
       "      <td>SP</td>\n",
       "      <td>45.9</td>\n",
       "      <td>0</td>\n",
       "    </tr>\n",
       "    <tr>\n",
       "      <th>1</th>\n",
       "      <td>2019</td>\n",
       "      <td>MG</td>\n",
       "      <td>21.2</td>\n",
       "      <td>1</td>\n",
       "    </tr>\n",
       "    <tr>\n",
       "      <th>2</th>\n",
       "      <td>2019</td>\n",
       "      <td>PR</td>\n",
       "      <td>16.9</td>\n",
       "      <td>2</td>\n",
       "    </tr>\n",
       "    <tr>\n",
       "      <th>3</th>\n",
       "      <td>2020</td>\n",
       "      <td>SP</td>\n",
       "      <td>46.6</td>\n",
       "      <td>3</td>\n",
       "    </tr>\n",
       "    <tr>\n",
       "      <th>4</th>\n",
       "      <td>2020</td>\n",
       "      <td>MG</td>\n",
       "      <td>21.4</td>\n",
       "      <td>4</td>\n",
       "    </tr>\n",
       "    <tr>\n",
       "      <th>5</th>\n",
       "      <td>2020</td>\n",
       "      <td>PR</td>\n",
       "      <td>17.3</td>\n",
       "      <td>5</td>\n",
       "    </tr>\n",
       "  </tbody>\n",
       "</table>\n",
       "</div>"
      ],
      "text/plain": [
       "    Ano estado  Populacao  estimativa\n",
       "0  2019     SP       45.9           0\n",
       "1  2019     MG       21.2           1\n",
       "2  2019     PR       16.9           2\n",
       "3  2020     SP       46.6           3\n",
       "4  2020     MG       21.4           4\n",
       "5  2020     PR       17.3           5"
      ]
     },
     "execution_count": 43,
     "metadata": {},
     "output_type": "execute_result"
    }
   ],
   "source": [
    "df2"
   ]
  },
  {
   "cell_type": "markdown",
   "metadata": {
    "id": "Hojw66APNB0z"
   },
   "source": [
    "#Analisar o DataFrame"
   ]
  },
  {
   "cell_type": "code",
   "execution_count": 44,
   "metadata": {
    "colab": {
     "base_uri": "https://localhost:8080/",
     "height": 388
    },
    "executionInfo": {
     "elapsed": 475,
     "status": "ok",
     "timestamp": 1632774247781,
     "user": {
      "displayName": "Jose Eduardo Santarem Segundo",
      "photoUrl": "https://lh3.googleusercontent.com/a-/AOh14GjLWfnjBdxVqYk-cgCgmPPwQImjjL3LNJ8YGfE=s64",
      "userId": "13621550804954747560"
     },
     "user_tz": 180
    },
    "id": "KpNvGZKrNw6f",
    "outputId": "c75876c0-addf-4f27-ff93-415c39f8efa4"
   },
   "outputs": [
    {
     "data": {
      "text/html": [
       "<div>\n",
       "<style scoped>\n",
       "    .dataframe tbody tr th:only-of-type {\n",
       "        vertical-align: middle;\n",
       "    }\n",
       "\n",
       "    .dataframe tbody tr th {\n",
       "        vertical-align: top;\n",
       "    }\n",
       "\n",
       "    .dataframe thead th {\n",
       "        text-align: right;\n",
       "    }\n",
       "</style>\n",
       "<table border=\"1\" class=\"dataframe\">\n",
       "  <thead>\n",
       "    <tr style=\"text-align: right;\">\n",
       "      <th></th>\n",
       "      <th>Ano</th>\n",
       "      <th>estado</th>\n",
       "      <th>Populacao</th>\n",
       "      <th>estimativa</th>\n",
       "    </tr>\n",
       "  </thead>\n",
       "  <tbody>\n",
       "    <tr>\n",
       "      <th>count</th>\n",
       "      <td>6.000000</td>\n",
       "      <td>6</td>\n",
       "      <td>6.000000</td>\n",
       "      <td>6.000000</td>\n",
       "    </tr>\n",
       "    <tr>\n",
       "      <th>unique</th>\n",
       "      <td>NaN</td>\n",
       "      <td>3</td>\n",
       "      <td>NaN</td>\n",
       "      <td>NaN</td>\n",
       "    </tr>\n",
       "    <tr>\n",
       "      <th>top</th>\n",
       "      <td>NaN</td>\n",
       "      <td>MG</td>\n",
       "      <td>NaN</td>\n",
       "      <td>NaN</td>\n",
       "    </tr>\n",
       "    <tr>\n",
       "      <th>freq</th>\n",
       "      <td>NaN</td>\n",
       "      <td>2</td>\n",
       "      <td>NaN</td>\n",
       "      <td>NaN</td>\n",
       "    </tr>\n",
       "    <tr>\n",
       "      <th>mean</th>\n",
       "      <td>2019.500000</td>\n",
       "      <td>NaN</td>\n",
       "      <td>28.216667</td>\n",
       "      <td>2.500000</td>\n",
       "    </tr>\n",
       "    <tr>\n",
       "      <th>std</th>\n",
       "      <td>0.547723</td>\n",
       "      <td>NaN</td>\n",
       "      <td>14.096725</td>\n",
       "      <td>1.870829</td>\n",
       "    </tr>\n",
       "    <tr>\n",
       "      <th>min</th>\n",
       "      <td>2019.000000</td>\n",
       "      <td>NaN</td>\n",
       "      <td>16.900000</td>\n",
       "      <td>0.000000</td>\n",
       "    </tr>\n",
       "    <tr>\n",
       "      <th>25%</th>\n",
       "      <td>2019.000000</td>\n",
       "      <td>NaN</td>\n",
       "      <td>18.275000</td>\n",
       "      <td>1.250000</td>\n",
       "    </tr>\n",
       "    <tr>\n",
       "      <th>50%</th>\n",
       "      <td>2019.500000</td>\n",
       "      <td>NaN</td>\n",
       "      <td>21.300000</td>\n",
       "      <td>2.500000</td>\n",
       "    </tr>\n",
       "    <tr>\n",
       "      <th>75%</th>\n",
       "      <td>2020.000000</td>\n",
       "      <td>NaN</td>\n",
       "      <td>39.775000</td>\n",
       "      <td>3.750000</td>\n",
       "    </tr>\n",
       "    <tr>\n",
       "      <th>max</th>\n",
       "      <td>2020.000000</td>\n",
       "      <td>NaN</td>\n",
       "      <td>46.600000</td>\n",
       "      <td>5.000000</td>\n",
       "    </tr>\n",
       "  </tbody>\n",
       "</table>\n",
       "</div>"
      ],
      "text/plain": [
       "                Ano estado  Populacao  estimativa\n",
       "count      6.000000      6   6.000000    6.000000\n",
       "unique          NaN      3        NaN         NaN\n",
       "top             NaN     MG        NaN         NaN\n",
       "freq            NaN      2        NaN         NaN\n",
       "mean    2019.500000    NaN  28.216667    2.500000\n",
       "std        0.547723    NaN  14.096725    1.870829\n",
       "min     2019.000000    NaN  16.900000    0.000000\n",
       "25%     2019.000000    NaN  18.275000    1.250000\n",
       "50%     2019.500000    NaN  21.300000    2.500000\n",
       "75%     2020.000000    NaN  39.775000    3.750000\n",
       "max     2020.000000    NaN  46.600000    5.000000"
      ]
     },
     "execution_count": 44,
     "metadata": {},
     "output_type": "execute_result"
    }
   ],
   "source": [
    "df2.describe(include='all')"
   ]
  },
  {
   "cell_type": "markdown",
   "metadata": {
    "id": "q2Nlp-OhN115"
   },
   "source": [
    "#Alterar valores e  consultar dados"
   ]
  },
  {
   "cell_type": "code",
   "execution_count": 45,
   "metadata": {
    "executionInfo": {
     "elapsed": 344,
     "status": "ok",
     "timestamp": 1632774342798,
     "user": {
      "displayName": "Jose Eduardo Santarem Segundo",
      "photoUrl": "https://lh3.googleusercontent.com/a-/AOh14GjLWfnjBdxVqYk-cgCgmPPwQImjjL3LNJ8YGfE=s64",
      "userId": "13621550804954747560"
     },
     "user_tz": 180
    },
    "id": "GNvQG9PCN5Ez"
   },
   "outputs": [],
   "source": [
    "df2['Ano']=df2['Ano']+2"
   ]
  },
  {
   "cell_type": "code",
   "execution_count": 46,
   "metadata": {
    "colab": {
     "base_uri": "https://localhost:8080/",
     "height": 234
    },
    "executionInfo": {
     "elapsed": 400,
     "status": "ok",
     "timestamp": 1632774346712,
     "user": {
      "displayName": "Jose Eduardo Santarem Segundo",
      "photoUrl": "https://lh3.googleusercontent.com/a-/AOh14GjLWfnjBdxVqYk-cgCgmPPwQImjjL3LNJ8YGfE=s64",
      "userId": "13621550804954747560"
     },
     "user_tz": 180
    },
    "id": "IUE-SYTgOIWD",
    "outputId": "1b2578d5-3fed-4050-af7a-2f4fd49496e9"
   },
   "outputs": [
    {
     "data": {
      "text/html": [
       "<div>\n",
       "<style scoped>\n",
       "    .dataframe tbody tr th:only-of-type {\n",
       "        vertical-align: middle;\n",
       "    }\n",
       "\n",
       "    .dataframe tbody tr th {\n",
       "        vertical-align: top;\n",
       "    }\n",
       "\n",
       "    .dataframe thead th {\n",
       "        text-align: right;\n",
       "    }\n",
       "</style>\n",
       "<table border=\"1\" class=\"dataframe\">\n",
       "  <thead>\n",
       "    <tr style=\"text-align: right;\">\n",
       "      <th></th>\n",
       "      <th>Ano</th>\n",
       "      <th>estado</th>\n",
       "      <th>Populacao</th>\n",
       "      <th>estimativa</th>\n",
       "    </tr>\n",
       "  </thead>\n",
       "  <tbody>\n",
       "    <tr>\n",
       "      <th>0</th>\n",
       "      <td>2021</td>\n",
       "      <td>SP</td>\n",
       "      <td>45.9</td>\n",
       "      <td>0</td>\n",
       "    </tr>\n",
       "    <tr>\n",
       "      <th>1</th>\n",
       "      <td>2021</td>\n",
       "      <td>MG</td>\n",
       "      <td>21.2</td>\n",
       "      <td>1</td>\n",
       "    </tr>\n",
       "    <tr>\n",
       "      <th>2</th>\n",
       "      <td>2021</td>\n",
       "      <td>PR</td>\n",
       "      <td>16.9</td>\n",
       "      <td>2</td>\n",
       "    </tr>\n",
       "    <tr>\n",
       "      <th>3</th>\n",
       "      <td>2022</td>\n",
       "      <td>SP</td>\n",
       "      <td>46.6</td>\n",
       "      <td>3</td>\n",
       "    </tr>\n",
       "    <tr>\n",
       "      <th>4</th>\n",
       "      <td>2022</td>\n",
       "      <td>MG</td>\n",
       "      <td>21.4</td>\n",
       "      <td>4</td>\n",
       "    </tr>\n",
       "    <tr>\n",
       "      <th>5</th>\n",
       "      <td>2022</td>\n",
       "      <td>PR</td>\n",
       "      <td>17.3</td>\n",
       "      <td>5</td>\n",
       "    </tr>\n",
       "  </tbody>\n",
       "</table>\n",
       "</div>"
      ],
      "text/plain": [
       "    Ano estado  Populacao  estimativa\n",
       "0  2021     SP       45.9           0\n",
       "1  2021     MG       21.2           1\n",
       "2  2021     PR       16.9           2\n",
       "3  2022     SP       46.6           3\n",
       "4  2022     MG       21.4           4\n",
       "5  2022     PR       17.3           5"
      ]
     },
     "execution_count": 46,
     "metadata": {},
     "output_type": "execute_result"
    }
   ],
   "source": [
    "df2"
   ]
  },
  {
   "cell_type": "code",
   "execution_count": 47,
   "metadata": {
    "colab": {
     "base_uri": "https://localhost:8080/",
     "height": 142
    },
    "executionInfo": {
     "elapsed": 419,
     "status": "ok",
     "timestamp": 1632774388064,
     "user": {
      "displayName": "Jose Eduardo Santarem Segundo",
      "photoUrl": "https://lh3.googleusercontent.com/a-/AOh14GjLWfnjBdxVqYk-cgCgmPPwQImjjL3LNJ8YGfE=s64",
      "userId": "13621550804954747560"
     },
     "user_tz": 180
    },
    "id": "roPHD2_COIhw",
    "outputId": "963c20ef-da67-47a2-89ba-8de10f010ac6"
   },
   "outputs": [
    {
     "data": {
      "text/html": [
       "<div>\n",
       "<style scoped>\n",
       "    .dataframe tbody tr th:only-of-type {\n",
       "        vertical-align: middle;\n",
       "    }\n",
       "\n",
       "    .dataframe tbody tr th {\n",
       "        vertical-align: top;\n",
       "    }\n",
       "\n",
       "    .dataframe thead th {\n",
       "        text-align: right;\n",
       "    }\n",
       "</style>\n",
       "<table border=\"1\" class=\"dataframe\">\n",
       "  <thead>\n",
       "    <tr style=\"text-align: right;\">\n",
       "      <th></th>\n",
       "      <th>Ano</th>\n",
       "      <th>estado</th>\n",
       "      <th>Populacao</th>\n",
       "      <th>estimativa</th>\n",
       "    </tr>\n",
       "  </thead>\n",
       "  <tbody>\n",
       "    <tr>\n",
       "      <th>3</th>\n",
       "      <td>2022</td>\n",
       "      <td>SP</td>\n",
       "      <td>46.6</td>\n",
       "      <td>3</td>\n",
       "    </tr>\n",
       "    <tr>\n",
       "      <th>4</th>\n",
       "      <td>2022</td>\n",
       "      <td>MG</td>\n",
       "      <td>21.4</td>\n",
       "      <td>4</td>\n",
       "    </tr>\n",
       "    <tr>\n",
       "      <th>5</th>\n",
       "      <td>2022</td>\n",
       "      <td>PR</td>\n",
       "      <td>17.3</td>\n",
       "      <td>5</td>\n",
       "    </tr>\n",
       "  </tbody>\n",
       "</table>\n",
       "</div>"
      ],
      "text/plain": [
       "    Ano estado  Populacao  estimativa\n",
       "3  2022     SP       46.6           3\n",
       "4  2022     MG       21.4           4\n",
       "5  2022     PR       17.3           5"
      ]
     },
     "execution_count": 47,
     "metadata": {},
     "output_type": "execute_result"
    }
   ],
   "source": [
    "df2[df2['Ano']>2021]"
   ]
  },
  {
   "cell_type": "code",
   "execution_count": 48,
   "metadata": {
    "executionInfo": {
     "elapsed": 407,
     "status": "ok",
     "timestamp": 1632774418777,
     "user": {
      "displayName": "Jose Eduardo Santarem Segundo",
      "photoUrl": "https://lh3.googleusercontent.com/a-/AOh14GjLWfnjBdxVqYk-cgCgmPPwQImjjL3LNJ8YGfE=s64",
      "userId": "13621550804954747560"
     },
     "user_tz": 180
    },
    "id": "3iNakQ_zOIra"
   },
   "outputs": [],
   "source": [
    "df4=df2[df2['Ano']>2021]"
   ]
  },
  {
   "cell_type": "code",
   "execution_count": 49,
   "metadata": {
    "colab": {
     "base_uri": "https://localhost:8080/",
     "height": 142
    },
    "executionInfo": {
     "elapsed": 542,
     "status": "ok",
     "timestamp": 1632774422063,
     "user": {
      "displayName": "Jose Eduardo Santarem Segundo",
      "photoUrl": "https://lh3.googleusercontent.com/a-/AOh14GjLWfnjBdxVqYk-cgCgmPPwQImjjL3LNJ8YGfE=s64",
      "userId": "13621550804954747560"
     },
     "user_tz": 180
    },
    "id": "_O7Vd7IfOI1m",
    "outputId": "42c0a4e7-fc13-43f4-8a1e-a315ea61e9e6"
   },
   "outputs": [
    {
     "data": {
      "text/html": [
       "<div>\n",
       "<style scoped>\n",
       "    .dataframe tbody tr th:only-of-type {\n",
       "        vertical-align: middle;\n",
       "    }\n",
       "\n",
       "    .dataframe tbody tr th {\n",
       "        vertical-align: top;\n",
       "    }\n",
       "\n",
       "    .dataframe thead th {\n",
       "        text-align: right;\n",
       "    }\n",
       "</style>\n",
       "<table border=\"1\" class=\"dataframe\">\n",
       "  <thead>\n",
       "    <tr style=\"text-align: right;\">\n",
       "      <th></th>\n",
       "      <th>Ano</th>\n",
       "      <th>estado</th>\n",
       "      <th>Populacao</th>\n",
       "      <th>estimativa</th>\n",
       "    </tr>\n",
       "  </thead>\n",
       "  <tbody>\n",
       "    <tr>\n",
       "      <th>3</th>\n",
       "      <td>2022</td>\n",
       "      <td>SP</td>\n",
       "      <td>46.6</td>\n",
       "      <td>3</td>\n",
       "    </tr>\n",
       "    <tr>\n",
       "      <th>4</th>\n",
       "      <td>2022</td>\n",
       "      <td>MG</td>\n",
       "      <td>21.4</td>\n",
       "      <td>4</td>\n",
       "    </tr>\n",
       "    <tr>\n",
       "      <th>5</th>\n",
       "      <td>2022</td>\n",
       "      <td>PR</td>\n",
       "      <td>17.3</td>\n",
       "      <td>5</td>\n",
       "    </tr>\n",
       "  </tbody>\n",
       "</table>\n",
       "</div>"
      ],
      "text/plain": [
       "    Ano estado  Populacao  estimativa\n",
       "3  2022     SP       46.6           3\n",
       "4  2022     MG       21.4           4\n",
       "5  2022     PR       17.3           5"
      ]
     },
     "execution_count": 49,
     "metadata": {},
     "output_type": "execute_result"
    }
   ],
   "source": [
    "df4"
   ]
  },
  {
   "cell_type": "markdown",
   "metadata": {
    "id": "I2gh6EpxOJLE"
   },
   "source": [
    "#Excluir Colunas"
   ]
  },
  {
   "cell_type": "code",
   "execution_count": 50,
   "metadata": {
    "colab": {
     "base_uri": "https://localhost:8080/",
     "height": 142
    },
    "executionInfo": {
     "elapsed": 12,
     "status": "ok",
     "timestamp": 1632774463786,
     "user": {
      "displayName": "Jose Eduardo Santarem Segundo",
      "photoUrl": "https://lh3.googleusercontent.com/a-/AOh14GjLWfnjBdxVqYk-cgCgmPPwQImjjL3LNJ8YGfE=s64",
      "userId": "13621550804954747560"
     },
     "user_tz": 180
    },
    "id": "blrAvVkQOKkB",
    "outputId": "48d37077-31b4-4d62-be26-2c5acf52f6f5"
   },
   "outputs": [
    {
     "data": {
      "text/html": [
       "<div>\n",
       "<style scoped>\n",
       "    .dataframe tbody tr th:only-of-type {\n",
       "        vertical-align: middle;\n",
       "    }\n",
       "\n",
       "    .dataframe tbody tr th {\n",
       "        vertical-align: top;\n",
       "    }\n",
       "\n",
       "    .dataframe thead th {\n",
       "        text-align: right;\n",
       "    }\n",
       "</style>\n",
       "<table border=\"1\" class=\"dataframe\">\n",
       "  <thead>\n",
       "    <tr style=\"text-align: right;\">\n",
       "      <th></th>\n",
       "      <th>estado</th>\n",
       "      <th>Populacao</th>\n",
       "      <th>estimativa</th>\n",
       "    </tr>\n",
       "  </thead>\n",
       "  <tbody>\n",
       "    <tr>\n",
       "      <th>3</th>\n",
       "      <td>SP</td>\n",
       "      <td>46.6</td>\n",
       "      <td>3</td>\n",
       "    </tr>\n",
       "    <tr>\n",
       "      <th>4</th>\n",
       "      <td>MG</td>\n",
       "      <td>21.4</td>\n",
       "      <td>4</td>\n",
       "    </tr>\n",
       "    <tr>\n",
       "      <th>5</th>\n",
       "      <td>PR</td>\n",
       "      <td>17.3</td>\n",
       "      <td>5</td>\n",
       "    </tr>\n",
       "  </tbody>\n",
       "</table>\n",
       "</div>"
      ],
      "text/plain": [
       "  estado  Populacao  estimativa\n",
       "3     SP       46.6           3\n",
       "4     MG       21.4           4\n",
       "5     PR       17.3           5"
      ]
     },
     "execution_count": 50,
     "metadata": {},
     "output_type": "execute_result"
    }
   ],
   "source": [
    "df4.drop('Ano', axis='columns')"
   ]
  },
  {
   "cell_type": "code",
   "execution_count": 51,
   "metadata": {
    "colab": {
     "base_uri": "https://localhost:8080/",
     "height": 142
    },
    "executionInfo": {
     "elapsed": 9,
     "status": "ok",
     "timestamp": 1632774473904,
     "user": {
      "displayName": "Jose Eduardo Santarem Segundo",
      "photoUrl": "https://lh3.googleusercontent.com/a-/AOh14GjLWfnjBdxVqYk-cgCgmPPwQImjjL3LNJ8YGfE=s64",
      "userId": "13621550804954747560"
     },
     "user_tz": 180
    },
    "id": "q7CCsEcLPox2",
    "outputId": "24898bee-64d0-430c-c4ee-169fa77823c6"
   },
   "outputs": [
    {
     "data": {
      "text/html": [
       "<div>\n",
       "<style scoped>\n",
       "    .dataframe tbody tr th:only-of-type {\n",
       "        vertical-align: middle;\n",
       "    }\n",
       "\n",
       "    .dataframe tbody tr th {\n",
       "        vertical-align: top;\n",
       "    }\n",
       "\n",
       "    .dataframe thead th {\n",
       "        text-align: right;\n",
       "    }\n",
       "</style>\n",
       "<table border=\"1\" class=\"dataframe\">\n",
       "  <thead>\n",
       "    <tr style=\"text-align: right;\">\n",
       "      <th></th>\n",
       "      <th>Ano</th>\n",
       "      <th>estado</th>\n",
       "      <th>Populacao</th>\n",
       "      <th>estimativa</th>\n",
       "    </tr>\n",
       "  </thead>\n",
       "  <tbody>\n",
       "    <tr>\n",
       "      <th>3</th>\n",
       "      <td>2022</td>\n",
       "      <td>SP</td>\n",
       "      <td>46.6</td>\n",
       "      <td>3</td>\n",
       "    </tr>\n",
       "    <tr>\n",
       "      <th>4</th>\n",
       "      <td>2022</td>\n",
       "      <td>MG</td>\n",
       "      <td>21.4</td>\n",
       "      <td>4</td>\n",
       "    </tr>\n",
       "    <tr>\n",
       "      <th>5</th>\n",
       "      <td>2022</td>\n",
       "      <td>PR</td>\n",
       "      <td>17.3</td>\n",
       "      <td>5</td>\n",
       "    </tr>\n",
       "  </tbody>\n",
       "</table>\n",
       "</div>"
      ],
      "text/plain": [
       "    Ano estado  Populacao  estimativa\n",
       "3  2022     SP       46.6           3\n",
       "4  2022     MG       21.4           4\n",
       "5  2022     PR       17.3           5"
      ]
     },
     "execution_count": 51,
     "metadata": {},
     "output_type": "execute_result"
    }
   ],
   "source": [
    "df4"
   ]
  },
  {
   "cell_type": "code",
   "execution_count": 52,
   "metadata": {
    "colab": {
     "base_uri": "https://localhost:8080/",
     "height": 234
    },
    "executionInfo": {
     "elapsed": 394,
     "status": "ok",
     "timestamp": 1632774481888,
     "user": {
      "displayName": "Jose Eduardo Santarem Segundo",
      "photoUrl": "https://lh3.googleusercontent.com/a-/AOh14GjLWfnjBdxVqYk-cgCgmPPwQImjjL3LNJ8YGfE=s64",
      "userId": "13621550804954747560"
     },
     "user_tz": 180
    },
    "id": "YB6gIL6YPodg",
    "outputId": "c5d7bdc2-9b09-40a2-d7e2-ac762aaccf50"
   },
   "outputs": [
    {
     "data": {
      "text/html": [
       "<div>\n",
       "<style scoped>\n",
       "    .dataframe tbody tr th:only-of-type {\n",
       "        vertical-align: middle;\n",
       "    }\n",
       "\n",
       "    .dataframe tbody tr th {\n",
       "        vertical-align: top;\n",
       "    }\n",
       "\n",
       "    .dataframe thead th {\n",
       "        text-align: right;\n",
       "    }\n",
       "</style>\n",
       "<table border=\"1\" class=\"dataframe\">\n",
       "  <thead>\n",
       "    <tr style=\"text-align: right;\">\n",
       "      <th></th>\n",
       "      <th>Ano</th>\n",
       "      <th>estado</th>\n",
       "      <th>Populacao</th>\n",
       "      <th>estimativa</th>\n",
       "    </tr>\n",
       "  </thead>\n",
       "  <tbody>\n",
       "    <tr>\n",
       "      <th>0</th>\n",
       "      <td>2021</td>\n",
       "      <td>SP</td>\n",
       "      <td>45.9</td>\n",
       "      <td>0</td>\n",
       "    </tr>\n",
       "    <tr>\n",
       "      <th>1</th>\n",
       "      <td>2021</td>\n",
       "      <td>MG</td>\n",
       "      <td>21.2</td>\n",
       "      <td>1</td>\n",
       "    </tr>\n",
       "    <tr>\n",
       "      <th>2</th>\n",
       "      <td>2021</td>\n",
       "      <td>PR</td>\n",
       "      <td>16.9</td>\n",
       "      <td>2</td>\n",
       "    </tr>\n",
       "    <tr>\n",
       "      <th>3</th>\n",
       "      <td>2022</td>\n",
       "      <td>SP</td>\n",
       "      <td>46.6</td>\n",
       "      <td>3</td>\n",
       "    </tr>\n",
       "    <tr>\n",
       "      <th>4</th>\n",
       "      <td>2022</td>\n",
       "      <td>MG</td>\n",
       "      <td>21.4</td>\n",
       "      <td>4</td>\n",
       "    </tr>\n",
       "    <tr>\n",
       "      <th>5</th>\n",
       "      <td>2022</td>\n",
       "      <td>PR</td>\n",
       "      <td>17.3</td>\n",
       "      <td>5</td>\n",
       "    </tr>\n",
       "  </tbody>\n",
       "</table>\n",
       "</div>"
      ],
      "text/plain": [
       "    Ano estado  Populacao  estimativa\n",
       "0  2021     SP       45.9           0\n",
       "1  2021     MG       21.2           1\n",
       "2  2021     PR       16.9           2\n",
       "3  2022     SP       46.6           3\n",
       "4  2022     MG       21.4           4\n",
       "5  2022     PR       17.3           5"
      ]
     },
     "execution_count": 52,
     "metadata": {},
     "output_type": "execute_result"
    }
   ],
   "source": [
    "df2"
   ]
  },
  {
   "cell_type": "code",
   "execution_count": 53,
   "metadata": {
    "executionInfo": {
     "elapsed": 318,
     "status": "ok",
     "timestamp": 1632774566948,
     "user": {
      "displayName": "Jose Eduardo Santarem Segundo",
      "photoUrl": "https://lh3.googleusercontent.com/a-/AOh14GjLWfnjBdxVqYk-cgCgmPPwQImjjL3LNJ8YGfE=s64",
      "userId": "13621550804954747560"
     },
     "user_tz": 180
    },
    "id": "cfzYCciQPoVu"
   },
   "outputs": [],
   "source": [
    "df2.drop('Ano', axis='columns', inplace=True)"
   ]
  },
  {
   "cell_type": "code",
   "execution_count": 54,
   "metadata": {
    "colab": {
     "base_uri": "https://localhost:8080/",
     "height": 234
    },
    "executionInfo": {
     "elapsed": 354,
     "status": "ok",
     "timestamp": 1632774571041,
     "user": {
      "displayName": "Jose Eduardo Santarem Segundo",
      "photoUrl": "https://lh3.googleusercontent.com/a-/AOh14GjLWfnjBdxVqYk-cgCgmPPwQImjjL3LNJ8YGfE=s64",
      "userId": "13621550804954747560"
     },
     "user_tz": 180
    },
    "id": "yCEa1xHHPoMl",
    "outputId": "677bd9ad-b53d-4d70-de12-136177cca991"
   },
   "outputs": [
    {
     "data": {
      "text/html": [
       "<div>\n",
       "<style scoped>\n",
       "    .dataframe tbody tr th:only-of-type {\n",
       "        vertical-align: middle;\n",
       "    }\n",
       "\n",
       "    .dataframe tbody tr th {\n",
       "        vertical-align: top;\n",
       "    }\n",
       "\n",
       "    .dataframe thead th {\n",
       "        text-align: right;\n",
       "    }\n",
       "</style>\n",
       "<table border=\"1\" class=\"dataframe\">\n",
       "  <thead>\n",
       "    <tr style=\"text-align: right;\">\n",
       "      <th></th>\n",
       "      <th>estado</th>\n",
       "      <th>Populacao</th>\n",
       "      <th>estimativa</th>\n",
       "    </tr>\n",
       "  </thead>\n",
       "  <tbody>\n",
       "    <tr>\n",
       "      <th>0</th>\n",
       "      <td>SP</td>\n",
       "      <td>45.9</td>\n",
       "      <td>0</td>\n",
       "    </tr>\n",
       "    <tr>\n",
       "      <th>1</th>\n",
       "      <td>MG</td>\n",
       "      <td>21.2</td>\n",
       "      <td>1</td>\n",
       "    </tr>\n",
       "    <tr>\n",
       "      <th>2</th>\n",
       "      <td>PR</td>\n",
       "      <td>16.9</td>\n",
       "      <td>2</td>\n",
       "    </tr>\n",
       "    <tr>\n",
       "      <th>3</th>\n",
       "      <td>SP</td>\n",
       "      <td>46.6</td>\n",
       "      <td>3</td>\n",
       "    </tr>\n",
       "    <tr>\n",
       "      <th>4</th>\n",
       "      <td>MG</td>\n",
       "      <td>21.4</td>\n",
       "      <td>4</td>\n",
       "    </tr>\n",
       "    <tr>\n",
       "      <th>5</th>\n",
       "      <td>PR</td>\n",
       "      <td>17.3</td>\n",
       "      <td>5</td>\n",
       "    </tr>\n",
       "  </tbody>\n",
       "</table>\n",
       "</div>"
      ],
      "text/plain": [
       "  estado  Populacao  estimativa\n",
       "0     SP       45.9           0\n",
       "1     MG       21.2           1\n",
       "2     PR       16.9           2\n",
       "3     SP       46.6           3\n",
       "4     MG       21.4           4\n",
       "5     PR       17.3           5"
      ]
     },
     "execution_count": 54,
     "metadata": {},
     "output_type": "execute_result"
    }
   ],
   "source": [
    "df2"
   ]
  },
  {
   "cell_type": "markdown",
   "metadata": {
    "id": "Evf_VYtHPpmp"
   },
   "source": [
    "#Excluir Linhas"
   ]
  },
  {
   "cell_type": "code",
   "execution_count": 55,
   "metadata": {
    "colab": {
     "base_uri": "https://localhost:8080/",
     "height": 172
    },
    "executionInfo": {
     "elapsed": 352,
     "status": "ok",
     "timestamp": 1632774615675,
     "user": {
      "displayName": "Jose Eduardo Santarem Segundo",
      "photoUrl": "https://lh3.googleusercontent.com/a-/AOh14GjLWfnjBdxVqYk-cgCgmPPwQImjjL3LNJ8YGfE=s64",
      "userId": "13621550804954747560"
     },
     "user_tz": 180
    },
    "id": "MxT3jgwkPqgq",
    "outputId": "d33447c3-870b-4d5d-dc87-191a3a9fd147"
   },
   "outputs": [
    {
     "data": {
      "text/html": [
       "<div>\n",
       "<style scoped>\n",
       "    .dataframe tbody tr th:only-of-type {\n",
       "        vertical-align: middle;\n",
       "    }\n",
       "\n",
       "    .dataframe tbody tr th {\n",
       "        vertical-align: top;\n",
       "    }\n",
       "\n",
       "    .dataframe thead th {\n",
       "        text-align: right;\n",
       "    }\n",
       "</style>\n",
       "<table border=\"1\" class=\"dataframe\">\n",
       "  <thead>\n",
       "    <tr style=\"text-align: right;\">\n",
       "      <th></th>\n",
       "      <th>estado</th>\n",
       "      <th>Populacao</th>\n",
       "      <th>estimativa</th>\n",
       "    </tr>\n",
       "  </thead>\n",
       "  <tbody>\n",
       "    <tr>\n",
       "      <th>2</th>\n",
       "      <td>PR</td>\n",
       "      <td>16.9</td>\n",
       "      <td>2</td>\n",
       "    </tr>\n",
       "    <tr>\n",
       "      <th>3</th>\n",
       "      <td>SP</td>\n",
       "      <td>46.6</td>\n",
       "      <td>3</td>\n",
       "    </tr>\n",
       "    <tr>\n",
       "      <th>4</th>\n",
       "      <td>MG</td>\n",
       "      <td>21.4</td>\n",
       "      <td>4</td>\n",
       "    </tr>\n",
       "    <tr>\n",
       "      <th>5</th>\n",
       "      <td>PR</td>\n",
       "      <td>17.3</td>\n",
       "      <td>5</td>\n",
       "    </tr>\n",
       "  </tbody>\n",
       "</table>\n",
       "</div>"
      ],
      "text/plain": [
       "  estado  Populacao  estimativa\n",
       "2     PR       16.9           2\n",
       "3     SP       46.6           3\n",
       "4     MG       21.4           4\n",
       "5     PR       17.3           5"
      ]
     },
     "execution_count": 55,
     "metadata": {},
     "output_type": "execute_result"
    }
   ],
   "source": [
    "df2.drop([0,1])"
   ]
  },
  {
   "cell_type": "code",
   "execution_count": 56,
   "metadata": {
    "colab": {
     "base_uri": "https://localhost:8080/",
     "height": 234
    },
    "executionInfo": {
     "elapsed": 374,
     "status": "ok",
     "timestamp": 1632774624432,
     "user": {
      "displayName": "Jose Eduardo Santarem Segundo",
      "photoUrl": "https://lh3.googleusercontent.com/a-/AOh14GjLWfnjBdxVqYk-cgCgmPPwQImjjL3LNJ8YGfE=s64",
      "userId": "13621550804954747560"
     },
     "user_tz": 180
    },
    "id": "0dR5Z_WUQaZG",
    "outputId": "d7ece4af-2440-499e-faf2-bb047bb8a781"
   },
   "outputs": [
    {
     "data": {
      "text/html": [
       "<div>\n",
       "<style scoped>\n",
       "    .dataframe tbody tr th:only-of-type {\n",
       "        vertical-align: middle;\n",
       "    }\n",
       "\n",
       "    .dataframe tbody tr th {\n",
       "        vertical-align: top;\n",
       "    }\n",
       "\n",
       "    .dataframe thead th {\n",
       "        text-align: right;\n",
       "    }\n",
       "</style>\n",
       "<table border=\"1\" class=\"dataframe\">\n",
       "  <thead>\n",
       "    <tr style=\"text-align: right;\">\n",
       "      <th></th>\n",
       "      <th>estado</th>\n",
       "      <th>Populacao</th>\n",
       "      <th>estimativa</th>\n",
       "    </tr>\n",
       "  </thead>\n",
       "  <tbody>\n",
       "    <tr>\n",
       "      <th>0</th>\n",
       "      <td>SP</td>\n",
       "      <td>45.9</td>\n",
       "      <td>0</td>\n",
       "    </tr>\n",
       "    <tr>\n",
       "      <th>1</th>\n",
       "      <td>MG</td>\n",
       "      <td>21.2</td>\n",
       "      <td>1</td>\n",
       "    </tr>\n",
       "    <tr>\n",
       "      <th>2</th>\n",
       "      <td>PR</td>\n",
       "      <td>16.9</td>\n",
       "      <td>2</td>\n",
       "    </tr>\n",
       "    <tr>\n",
       "      <th>3</th>\n",
       "      <td>SP</td>\n",
       "      <td>46.6</td>\n",
       "      <td>3</td>\n",
       "    </tr>\n",
       "    <tr>\n",
       "      <th>4</th>\n",
       "      <td>MG</td>\n",
       "      <td>21.4</td>\n",
       "      <td>4</td>\n",
       "    </tr>\n",
       "    <tr>\n",
       "      <th>5</th>\n",
       "      <td>PR</td>\n",
       "      <td>17.3</td>\n",
       "      <td>5</td>\n",
       "    </tr>\n",
       "  </tbody>\n",
       "</table>\n",
       "</div>"
      ],
      "text/plain": [
       "  estado  Populacao  estimativa\n",
       "0     SP       45.9           0\n",
       "1     MG       21.2           1\n",
       "2     PR       16.9           2\n",
       "3     SP       46.6           3\n",
       "4     MG       21.4           4\n",
       "5     PR       17.3           5"
      ]
     },
     "execution_count": 56,
     "metadata": {},
     "output_type": "execute_result"
    }
   ],
   "source": [
    "df2"
   ]
  },
  {
   "cell_type": "markdown",
   "metadata": {
    "id": "jN6wTJrwQaoj"
   },
   "source": [
    "###Observe a propagação na exclusão definitiva"
   ]
  },
  {
   "cell_type": "code",
   "execution_count": 57,
   "metadata": {
    "executionInfo": {
     "elapsed": 363,
     "status": "ok",
     "timestamp": 1632774656582,
     "user": {
      "displayName": "Jose Eduardo Santarem Segundo",
      "photoUrl": "https://lh3.googleusercontent.com/a-/AOh14GjLWfnjBdxVqYk-cgCgmPPwQImjjL3LNJ8YGfE=s64",
      "userId": "13621550804954747560"
     },
     "user_tz": 180
    },
    "id": "jRcR8lctQcKo"
   },
   "outputs": [],
   "source": [
    "dflinhas=df2"
   ]
  },
  {
   "cell_type": "code",
   "execution_count": 58,
   "metadata": {
    "executionInfo": {
     "elapsed": 313,
     "status": "ok",
     "timestamp": 1632774680857,
     "user": {
      "displayName": "Jose Eduardo Santarem Segundo",
      "photoUrl": "https://lh3.googleusercontent.com/a-/AOh14GjLWfnjBdxVqYk-cgCgmPPwQImjjL3LNJ8YGfE=s64",
      "userId": "13621550804954747560"
     },
     "user_tz": 180
    },
    "id": "6l_oasjORBzv"
   },
   "outputs": [],
   "source": [
    "dflinhas.drop([0,1],inplace=True)"
   ]
  },
  {
   "cell_type": "code",
   "execution_count": 59,
   "metadata": {
    "colab": {
     "base_uri": "https://localhost:8080/",
     "height": 172
    },
    "executionInfo": {
     "elapsed": 588,
     "status": "ok",
     "timestamp": 1632774690175,
     "user": {
      "displayName": "Jose Eduardo Santarem Segundo",
      "photoUrl": "https://lh3.googleusercontent.com/a-/AOh14GjLWfnjBdxVqYk-cgCgmPPwQImjjL3LNJ8YGfE=s64",
      "userId": "13621550804954747560"
     },
     "user_tz": 180
    },
    "id": "EWWqGDgdRB7_",
    "outputId": "7f7d51e6-4deb-4983-ec99-52cee4dfd0ae"
   },
   "outputs": [
    {
     "data": {
      "text/html": [
       "<div>\n",
       "<style scoped>\n",
       "    .dataframe tbody tr th:only-of-type {\n",
       "        vertical-align: middle;\n",
       "    }\n",
       "\n",
       "    .dataframe tbody tr th {\n",
       "        vertical-align: top;\n",
       "    }\n",
       "\n",
       "    .dataframe thead th {\n",
       "        text-align: right;\n",
       "    }\n",
       "</style>\n",
       "<table border=\"1\" class=\"dataframe\">\n",
       "  <thead>\n",
       "    <tr style=\"text-align: right;\">\n",
       "      <th></th>\n",
       "      <th>estado</th>\n",
       "      <th>Populacao</th>\n",
       "      <th>estimativa</th>\n",
       "    </tr>\n",
       "  </thead>\n",
       "  <tbody>\n",
       "    <tr>\n",
       "      <th>2</th>\n",
       "      <td>PR</td>\n",
       "      <td>16.9</td>\n",
       "      <td>2</td>\n",
       "    </tr>\n",
       "    <tr>\n",
       "      <th>3</th>\n",
       "      <td>SP</td>\n",
       "      <td>46.6</td>\n",
       "      <td>3</td>\n",
       "    </tr>\n",
       "    <tr>\n",
       "      <th>4</th>\n",
       "      <td>MG</td>\n",
       "      <td>21.4</td>\n",
       "      <td>4</td>\n",
       "    </tr>\n",
       "    <tr>\n",
       "      <th>5</th>\n",
       "      <td>PR</td>\n",
       "      <td>17.3</td>\n",
       "      <td>5</td>\n",
       "    </tr>\n",
       "  </tbody>\n",
       "</table>\n",
       "</div>"
      ],
      "text/plain": [
       "  estado  Populacao  estimativa\n",
       "2     PR       16.9           2\n",
       "3     SP       46.6           3\n",
       "4     MG       21.4           4\n",
       "5     PR       17.3           5"
      ]
     },
     "execution_count": 59,
     "metadata": {},
     "output_type": "execute_result"
    }
   ],
   "source": [
    "dflinhas"
   ]
  },
  {
   "cell_type": "code",
   "execution_count": 60,
   "metadata": {
    "colab": {
     "base_uri": "https://localhost:8080/",
     "height": 172
    },
    "executionInfo": {
     "elapsed": 484,
     "status": "ok",
     "timestamp": 1632774700209,
     "user": {
      "displayName": "Jose Eduardo Santarem Segundo",
      "photoUrl": "https://lh3.googleusercontent.com/a-/AOh14GjLWfnjBdxVqYk-cgCgmPPwQImjjL3LNJ8YGfE=s64",
      "userId": "13621550804954747560"
     },
     "user_tz": 180
    },
    "id": "niZhEwvv9Kz4",
    "outputId": "47fe978c-c489-4e28-e4f3-ae760a1af051"
   },
   "outputs": [
    {
     "data": {
      "text/html": [
       "<div>\n",
       "<style scoped>\n",
       "    .dataframe tbody tr th:only-of-type {\n",
       "        vertical-align: middle;\n",
       "    }\n",
       "\n",
       "    .dataframe tbody tr th {\n",
       "        vertical-align: top;\n",
       "    }\n",
       "\n",
       "    .dataframe thead th {\n",
       "        text-align: right;\n",
       "    }\n",
       "</style>\n",
       "<table border=\"1\" class=\"dataframe\">\n",
       "  <thead>\n",
       "    <tr style=\"text-align: right;\">\n",
       "      <th></th>\n",
       "      <th>estado</th>\n",
       "      <th>Populacao</th>\n",
       "      <th>estimativa</th>\n",
       "    </tr>\n",
       "  </thead>\n",
       "  <tbody>\n",
       "    <tr>\n",
       "      <th>2</th>\n",
       "      <td>PR</td>\n",
       "      <td>16.9</td>\n",
       "      <td>2</td>\n",
       "    </tr>\n",
       "    <tr>\n",
       "      <th>3</th>\n",
       "      <td>SP</td>\n",
       "      <td>46.6</td>\n",
       "      <td>3</td>\n",
       "    </tr>\n",
       "    <tr>\n",
       "      <th>4</th>\n",
       "      <td>MG</td>\n",
       "      <td>21.4</td>\n",
       "      <td>4</td>\n",
       "    </tr>\n",
       "    <tr>\n",
       "      <th>5</th>\n",
       "      <td>PR</td>\n",
       "      <td>17.3</td>\n",
       "      <td>5</td>\n",
       "    </tr>\n",
       "  </tbody>\n",
       "</table>\n",
       "</div>"
      ],
      "text/plain": [
       "  estado  Populacao  estimativa\n",
       "2     PR       16.9           2\n",
       "3     SP       46.6           3\n",
       "4     MG       21.4           4\n",
       "5     PR       17.3           5"
      ]
     },
     "execution_count": 60,
     "metadata": {},
     "output_type": "execute_result"
    }
   ],
   "source": [
    "df2"
   ]
  },
  {
   "cell_type": "markdown",
   "metadata": {
    "id": "m7TpV5vURCHy"
   },
   "source": [
    "#Ver Dados de linhas"
   ]
  },
  {
   "cell_type": "code",
   "execution_count": 61,
   "metadata": {
    "colab": {
     "base_uri": "https://localhost:8080/"
    },
    "executionInfo": {
     "elapsed": 410,
     "status": "ok",
     "timestamp": 1632774730310,
     "user": {
      "displayName": "Jose Eduardo Santarem Segundo",
      "photoUrl": "https://lh3.googleusercontent.com/a-/AOh14GjLWfnjBdxVqYk-cgCgmPPwQImjjL3LNJ8YGfE=s64",
      "userId": "13621550804954747560"
     },
     "user_tz": 180
    },
    "id": "qqZ5E4JCRDWW",
    "outputId": "5d6fa70a-50a1-445a-f80e-cdc4d603aeb2"
   },
   "outputs": [
    {
     "data": {
      "text/plain": [
       "estado          PR\n",
       "Populacao     16.9\n",
       "estimativa       2\n",
       "Name: 2, dtype: object"
      ]
     },
     "execution_count": 61,
     "metadata": {},
     "output_type": "execute_result"
    }
   ],
   "source": [
    "df2.iloc[0]"
   ]
  },
  {
   "cell_type": "code",
   "execution_count": 62,
   "metadata": {
    "colab": {
     "base_uri": "https://localhost:8080/",
     "height": 110
    },
    "executionInfo": {
     "elapsed": 464,
     "status": "ok",
     "timestamp": 1632774750175,
     "user": {
      "displayName": "Jose Eduardo Santarem Segundo",
      "photoUrl": "https://lh3.googleusercontent.com/a-/AOh14GjLWfnjBdxVqYk-cgCgmPPwQImjjL3LNJ8YGfE=s64",
      "userId": "13621550804954747560"
     },
     "user_tz": 180
    },
    "id": "knjvZxmMR1lx",
    "outputId": "a26575e9-bf91-4600-a09b-ededae6f6382"
   },
   "outputs": [
    {
     "data": {
      "text/html": [
       "<div>\n",
       "<style scoped>\n",
       "    .dataframe tbody tr th:only-of-type {\n",
       "        vertical-align: middle;\n",
       "    }\n",
       "\n",
       "    .dataframe tbody tr th {\n",
       "        vertical-align: top;\n",
       "    }\n",
       "\n",
       "    .dataframe thead th {\n",
       "        text-align: right;\n",
       "    }\n",
       "</style>\n",
       "<table border=\"1\" class=\"dataframe\">\n",
       "  <thead>\n",
       "    <tr style=\"text-align: right;\">\n",
       "      <th></th>\n",
       "      <th>estado</th>\n",
       "      <th>Populacao</th>\n",
       "      <th>estimativa</th>\n",
       "    </tr>\n",
       "  </thead>\n",
       "  <tbody>\n",
       "    <tr>\n",
       "      <th>3</th>\n",
       "      <td>SP</td>\n",
       "      <td>46.6</td>\n",
       "      <td>3</td>\n",
       "    </tr>\n",
       "    <tr>\n",
       "      <th>4</th>\n",
       "      <td>MG</td>\n",
       "      <td>21.4</td>\n",
       "      <td>4</td>\n",
       "    </tr>\n",
       "  </tbody>\n",
       "</table>\n",
       "</div>"
      ],
      "text/plain": [
       "  estado  Populacao  estimativa\n",
       "3     SP       46.6           3\n",
       "4     MG       21.4           4"
      ]
     },
     "execution_count": 62,
     "metadata": {},
     "output_type": "execute_result"
    }
   ],
   "source": [
    "df2.iloc[1:3]"
   ]
  },
  {
   "cell_type": "code",
   "execution_count": 63,
   "metadata": {
    "colab": {
     "base_uri": "https://localhost:8080/",
     "height": 110
    },
    "executionInfo": {
     "elapsed": 360,
     "status": "ok",
     "timestamp": 1632774793801,
     "user": {
      "displayName": "Jose Eduardo Santarem Segundo",
      "photoUrl": "https://lh3.googleusercontent.com/a-/AOh14GjLWfnjBdxVqYk-cgCgmPPwQImjjL3LNJ8YGfE=s64",
      "userId": "13621550804954747560"
     },
     "user_tz": 180
    },
    "id": "QViaDl9aR1wM",
    "outputId": "86b0e968-45a0-4794-8319-999c496564cc"
   },
   "outputs": [
    {
     "data": {
      "text/html": [
       "<div>\n",
       "<style scoped>\n",
       "    .dataframe tbody tr th:only-of-type {\n",
       "        vertical-align: middle;\n",
       "    }\n",
       "\n",
       "    .dataframe tbody tr th {\n",
       "        vertical-align: top;\n",
       "    }\n",
       "\n",
       "    .dataframe thead th {\n",
       "        text-align: right;\n",
       "    }\n",
       "</style>\n",
       "<table border=\"1\" class=\"dataframe\">\n",
       "  <thead>\n",
       "    <tr style=\"text-align: right;\">\n",
       "      <th></th>\n",
       "      <th>Populacao</th>\n",
       "      <th>estimativa</th>\n",
       "    </tr>\n",
       "  </thead>\n",
       "  <tbody>\n",
       "    <tr>\n",
       "      <th>3</th>\n",
       "      <td>46.6</td>\n",
       "      <td>3</td>\n",
       "    </tr>\n",
       "    <tr>\n",
       "      <th>4</th>\n",
       "      <td>21.4</td>\n",
       "      <td>4</td>\n",
       "    </tr>\n",
       "  </tbody>\n",
       "</table>\n",
       "</div>"
      ],
      "text/plain": [
       "   Populacao  estimativa\n",
       "3       46.6           3\n",
       "4       21.4           4"
      ]
     },
     "execution_count": 63,
     "metadata": {},
     "output_type": "execute_result"
    }
   ],
   "source": [
    "df2.iloc[1:3,[1,2]]"
   ]
  },
  {
   "cell_type": "code",
   "execution_count": 64,
   "metadata": {
    "colab": {
     "base_uri": "https://localhost:8080/",
     "height": 172
    },
    "executionInfo": {
     "elapsed": 379,
     "status": "ok",
     "timestamp": 1632774813052,
     "user": {
      "displayName": "Jose Eduardo Santarem Segundo",
      "photoUrl": "https://lh3.googleusercontent.com/a-/AOh14GjLWfnjBdxVqYk-cgCgmPPwQImjjL3LNJ8YGfE=s64",
      "userId": "13621550804954747560"
     },
     "user_tz": 180
    },
    "id": "1JQGFkRMR14R",
    "outputId": "8bc5906b-0f9b-4faa-bc29-1f429cc7b317"
   },
   "outputs": [
    {
     "data": {
      "text/html": [
       "<div>\n",
       "<style scoped>\n",
       "    .dataframe tbody tr th:only-of-type {\n",
       "        vertical-align: middle;\n",
       "    }\n",
       "\n",
       "    .dataframe tbody tr th {\n",
       "        vertical-align: top;\n",
       "    }\n",
       "\n",
       "    .dataframe thead th {\n",
       "        text-align: right;\n",
       "    }\n",
       "</style>\n",
       "<table border=\"1\" class=\"dataframe\">\n",
       "  <thead>\n",
       "    <tr style=\"text-align: right;\">\n",
       "      <th></th>\n",
       "      <th>estado</th>\n",
       "      <th>Populacao</th>\n",
       "      <th>estimativa</th>\n",
       "    </tr>\n",
       "  </thead>\n",
       "  <tbody>\n",
       "    <tr>\n",
       "      <th>2</th>\n",
       "      <td>PR</td>\n",
       "      <td>16.9</td>\n",
       "      <td>2</td>\n",
       "    </tr>\n",
       "    <tr>\n",
       "      <th>3</th>\n",
       "      <td>SP</td>\n",
       "      <td>46.6</td>\n",
       "      <td>3</td>\n",
       "    </tr>\n",
       "    <tr>\n",
       "      <th>4</th>\n",
       "      <td>MG</td>\n",
       "      <td>21.4</td>\n",
       "      <td>4</td>\n",
       "    </tr>\n",
       "    <tr>\n",
       "      <th>5</th>\n",
       "      <td>PR</td>\n",
       "      <td>17.3</td>\n",
       "      <td>5</td>\n",
       "    </tr>\n",
       "  </tbody>\n",
       "</table>\n",
       "</div>"
      ],
      "text/plain": [
       "  estado  Populacao  estimativa\n",
       "2     PR       16.9           2\n",
       "3     SP       46.6           3\n",
       "4     MG       21.4           4\n",
       "5     PR       17.3           5"
      ]
     },
     "execution_count": 64,
     "metadata": {},
     "output_type": "execute_result"
    }
   ],
   "source": [
    "df2"
   ]
  },
  {
   "cell_type": "code",
   "execution_count": null,
   "metadata": {
    "id": "djycZE6f9m-O"
   },
   "outputs": [],
   "source": []
  }
 ],
 "metadata": {
  "colab": {
   "authorship_tag": "ABX9TyOfla0rzq04NvVLjMZ6L7Za",
   "collapsed_sections": [],
   "name": "COM350_Univesp_Videoaula6_Pandas.ipynb",
   "provenance": []
  },
  "kernelspec": {
   "display_name": "Python 3",
   "language": "python",
   "name": "python3"
  },
  "language_info": {
   "codemirror_mode": {
    "name": "ipython",
    "version": 3
   },
   "file_extension": ".py",
   "mimetype": "text/x-python",
   "name": "python",
   "nbconvert_exporter": "python",
   "pygments_lexer": "ipython3",
   "version": "3.8.8"
  }
 },
 "nbformat": 4,
 "nbformat_minor": 4
}
